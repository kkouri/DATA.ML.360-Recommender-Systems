{
 "cells": [
  {
   "cell_type": "markdown",
   "source": [
    "# Project Work Part 1"
   ],
   "metadata": {
    "collapsed": false
   }
  },
  {
   "cell_type": "markdown",
   "metadata": {},
   "source": [
    "#### a)\n",
    "Download the data and display it"
   ]
  },
  {
   "cell_type": "code",
   "metadata": {
    "ExecuteTime": {
     "end_time": "2024-11-08T11:47:20.492440Z",
     "start_time": "2024-11-08T11:47:19.918872Z"
    }
   },
   "source": [
    "import numpy as np\n",
    "import polars as pl\n",
    "\n",
    "# read data\n",
    "links_df = pl.read_csv(\"../data/links.csv\", schema={\"movieId\": pl.Int32, \"imdb\": pl.Int32, \"tmdbId\": pl.Int32})\n",
    "movies_df = (\n",
    "    pl.read_csv(\"../data/movies.csv\", schema={\"movieId\": pl.Int32, \"title\": pl.String, \"genres\": pl.String})\n",
    "    .with_row_index()\n",
    "    .with_columns(\n",
    "        pl.col(\"index\")\n",
    "        .cast(pl.Int32)\n",
    "    )\n",
    ")\n",
    "ratings_df = pl.read_csv(\"../data/ratings.csv\", schema={\"userId\": pl.Int32, \"movieId\": pl.Int32, \"rating\": pl.Float32, \"timestamp\": pl.Int32})\n",
    "tags_df = pl.read_csv(\"../data/tags.csv\", schema={\"userId\": pl.Int32, \"movieId\": pl.Int32, \"tag\": pl.String, \"timestamp\": pl.Int32})\n",
    "\n",
    "print(\"Number of ratings: \", ratings_df.height)"
   ],
   "outputs": [
    {
     "name": "stdout",
     "output_type": "stream",
     "text": [
      "Number of ratings:  100836\n"
     ]
    }
   ],
   "execution_count": 1
  },
  {
   "cell_type": "code",
   "metadata": {
    "ExecuteTime": {
     "end_time": "2024-11-08T11:47:20.503101Z",
     "start_time": "2024-11-08T11:47:20.494458Z"
    }
   },
   "source": [
    "print(links_df)"
   ],
   "outputs": [
    {
     "name": "stdout",
     "output_type": "stream",
     "text": [
      "shape: (9_742, 3)\n",
      "┌─────────┬─────────┬────────┐\n",
      "│ movieId ┆ imdb    ┆ tmdbId │\n",
      "│ ---     ┆ ---     ┆ ---    │\n",
      "│ i32     ┆ i32     ┆ i32    │\n",
      "╞═════════╪═════════╪════════╡\n",
      "│ 1       ┆ 114709  ┆ 862    │\n",
      "│ 2       ┆ 113497  ┆ 8844   │\n",
      "│ 3       ┆ 113228  ┆ 15602  │\n",
      "│ 4       ┆ 114885  ┆ 31357  │\n",
      "│ 5       ┆ 113041  ┆ 11862  │\n",
      "│ …       ┆ …       ┆ …      │\n",
      "│ 193581  ┆ 5476944 ┆ 432131 │\n",
      "│ 193583  ┆ 5914996 ┆ 445030 │\n",
      "│ 193585  ┆ 6397426 ┆ 479308 │\n",
      "│ 193587  ┆ 8391976 ┆ 483455 │\n",
      "│ 193609  ┆ 101726  ┆ 37891  │\n",
      "└─────────┴─────────┴────────┘\n"
     ]
    }
   ],
   "execution_count": 2
  },
  {
   "cell_type": "code",
   "metadata": {
    "ExecuteTime": {
     "end_time": "2024-11-08T11:47:20.514755Z",
     "start_time": "2024-11-08T11:47:20.505630Z"
    }
   },
   "source": [
    "print(movies_df)"
   ],
   "outputs": [
    {
     "name": "stdout",
     "output_type": "stream",
     "text": [
      "shape: (9_742, 4)\n",
      "┌───────┬─────────┬─────────────────────────────────┬─────────────────────────────────┐\n",
      "│ index ┆ movieId ┆ title                           ┆ genres                          │\n",
      "│ ---   ┆ ---     ┆ ---                             ┆ ---                             │\n",
      "│ i32   ┆ i32     ┆ str                             ┆ str                             │\n",
      "╞═══════╪═════════╪═════════════════════════════════╪═════════════════════════════════╡\n",
      "│ 0     ┆ 1       ┆ Toy Story (1995)                ┆ Adventure|Animation|Children|C… │\n",
      "│ 1     ┆ 2       ┆ Jumanji (1995)                  ┆ Adventure|Children|Fantasy      │\n",
      "│ 2     ┆ 3       ┆ Grumpier Old Men (1995)         ┆ Comedy|Romance                  │\n",
      "│ 3     ┆ 4       ┆ Waiting to Exhale (1995)        ┆ Comedy|Drama|Romance            │\n",
      "│ 4     ┆ 5       ┆ Father of the Bride Part II (1… ┆ Comedy                          │\n",
      "│ …     ┆ …       ┆ …                               ┆ …                               │\n",
      "│ 9737  ┆ 193581  ┆ Black Butler: Book of the Atla… ┆ Action|Animation|Comedy|Fantas… │\n",
      "│ 9738  ┆ 193583  ┆ No Game No Life: Zero (2017)    ┆ Animation|Comedy|Fantasy        │\n",
      "│ 9739  ┆ 193585  ┆ Flint (2017)                    ┆ Drama                           │\n",
      "│ 9740  ┆ 193587  ┆ Bungo Stray Dogs: Dead Apple (… ┆ Action|Animation                │\n",
      "│ 9741  ┆ 193609  ┆ Andrew Dice Clay: Dice Rules (… ┆ Comedy                          │\n",
      "└───────┴─────────┴─────────────────────────────────┴─────────────────────────────────┘\n"
     ]
    }
   ],
   "execution_count": 3
  },
  {
   "cell_type": "code",
   "metadata": {
    "ExecuteTime": {
     "end_time": "2024-11-08T11:47:20.522395Z",
     "start_time": "2024-11-08T11:47:20.517572Z"
    }
   },
   "source": [
    "print(ratings_df)"
   ],
   "outputs": [
    {
     "name": "stdout",
     "output_type": "stream",
     "text": [
      "shape: (100_836, 4)\n",
      "┌────────┬─────────┬────────┬────────────┐\n",
      "│ userId ┆ movieId ┆ rating ┆ timestamp  │\n",
      "│ ---    ┆ ---     ┆ ---    ┆ ---        │\n",
      "│ i32    ┆ i32     ┆ f32    ┆ i32        │\n",
      "╞════════╪═════════╪════════╪════════════╡\n",
      "│ 1      ┆ 1       ┆ 4.0    ┆ 964982703  │\n",
      "│ 1      ┆ 3       ┆ 4.0    ┆ 964981247  │\n",
      "│ 1      ┆ 6       ┆ 4.0    ┆ 964982224  │\n",
      "│ 1      ┆ 47      ┆ 5.0    ┆ 964983815  │\n",
      "│ 1      ┆ 50      ┆ 5.0    ┆ 964982931  │\n",
      "│ …      ┆ …       ┆ …      ┆ …          │\n",
      "│ 610    ┆ 166534  ┆ 4.0    ┆ 1493848402 │\n",
      "│ 610    ┆ 168248  ┆ 5.0    ┆ 1493850091 │\n",
      "│ 610    ┆ 168250  ┆ 5.0    ┆ 1494273047 │\n",
      "│ 610    ┆ 168252  ┆ 5.0    ┆ 1493846352 │\n",
      "│ 610    ┆ 170875  ┆ 3.0    ┆ 1493846415 │\n",
      "└────────┴─────────┴────────┴────────────┘\n"
     ]
    }
   ],
   "execution_count": 4
  },
  {
   "cell_type": "code",
   "metadata": {
    "ExecuteTime": {
     "end_time": "2024-11-08T11:47:20.529689Z",
     "start_time": "2024-11-08T11:47:20.525940Z"
    }
   },
   "source": [
    "print(tags_df)"
   ],
   "outputs": [
    {
     "name": "stdout",
     "output_type": "stream",
     "text": [
      "shape: (3_683, 4)\n",
      "┌────────┬─────────┬──────────────────┬────────────┐\n",
      "│ userId ┆ movieId ┆ tag              ┆ timestamp  │\n",
      "│ ---    ┆ ---     ┆ ---              ┆ ---        │\n",
      "│ i32    ┆ i32     ┆ str              ┆ i32        │\n",
      "╞════════╪═════════╪══════════════════╪════════════╡\n",
      "│ 2      ┆ 60756   ┆ funny            ┆ 1445714994 │\n",
      "│ 2      ┆ 60756   ┆ Highly quotable  ┆ 1445714996 │\n",
      "│ 2      ┆ 60756   ┆ will ferrell     ┆ 1445714992 │\n",
      "│ 2      ┆ 89774   ┆ Boxing story     ┆ 1445715207 │\n",
      "│ 2      ┆ 89774   ┆ MMA              ┆ 1445715200 │\n",
      "│ …      ┆ …       ┆ …                ┆ …          │\n",
      "│ 606    ┆ 7382    ┆ for katie        ┆ 1171234019 │\n",
      "│ 606    ┆ 7936    ┆ austere          ┆ 1173392334 │\n",
      "│ 610    ┆ 3265    ┆ gun fu           ┆ 1493843984 │\n",
      "│ 610    ┆ 3265    ┆ heroic bloodshed ┆ 1493843978 │\n",
      "│ 610    ┆ 168248  ┆ Heroic Bloodshed ┆ 1493844270 │\n",
      "└────────┴─────────┴──────────────────┴────────────┘\n"
     ]
    }
   ],
   "execution_count": 5
  },
  {
   "cell_type": "markdown",
   "metadata": {},
   "source": [
    "#### b)\n",
    "User-based collaborative filtering using the Pearson correlation function.\n",
    "\n",
    "The pearson correlation function is found in polars so there is no need to implement it from scratch. The function will take into account only the ratings that are rated by both users. However, pearson correlation function can produce nan values which must be filtered out later.\n",
    "\n",
    "Let's calculate top similar users for userId 1 using Pearson correlation\n"
   ]
  },
  {
   "metadata": {
    "ExecuteTime": {
     "end_time": "2024-11-08T11:47:20.656816Z",
     "start_time": "2024-11-08T11:47:20.531494Z"
    }
   },
   "cell_type": "code",
   "source": [
    "def get_top_n_most_similar_users_pearson(user_id, n):\n",
    "    distance_df = (\n",
    "        ratings_df\n",
    "        .drop(\"timestamp\")\n",
    "        .pivot(\"userId\", index=\"movieId\")\n",
    "        .drop(\"movieId\")\n",
    "        .select(pl.corr(pl.all(), str(user_id), method=\"pearson\"))\n",
    "        .transpose(include_header=True, header_name=\"userId\", column_names=[\"correlation\"])\n",
    "        .cast({\"userId\": pl.Int16})\n",
    "        .filter(pl.col(\"correlation\").is_not_nan()) # filter out NaN values\n",
    "        .sort([\"correlation\", \"userId\"], descending=[True, False])\n",
    "        .filter(pl.col(\"userId\") != user_id) # filter out the user itself\n",
    "        .filter(pl.col(\"correlation\") > 0.2) # filter out users with low correlation\n",
    "        .limit(n)\n",
    "    )\n",
    "    return (\n",
    "        distance_df\n",
    "        .select(\"userId\")\n",
    "        .to_numpy()\n",
    "        .reshape(-1)\n",
    "    ), (\n",
    "        distance_df\n",
    "        .select(\"correlation\")\n",
    "        .to_numpy()\n",
    "        .reshape(-1)\n",
    "    )\n",
    "\n",
    "# Calculate the top 50 most similar users to userId 1\n",
    "user_ids, similarity_scores = get_top_n_most_similar_users_pearson(1, 50)\n",
    "print(user_ids)\n",
    "print(similarity_scores)"
   ],
   "outputs": [
    {
     "name": "stdout",
     "output_type": "stream",
     "text": [
      "[106 146 333 550 598 473 511   9  13 366 401 535 154 481  90 499 157 139\n",
      " 476 487 210 114 530  49 162 297 207  44 430 394 574 421 248 173  65 505\n",
      " 369 435 375 431 351  72 206 120 344 112  99 445 494 467]\n",
      "[1.         1.         1.         1.         1.         0.9622505\n",
      " 0.9258201  0.91855866 0.8783101  0.8728716  0.8669214  0.86640024\n",
      " 0.8660254  0.8660254  0.8215838  0.8029551  0.80178374 0.7905694\n",
      " 0.78693587 0.7745967  0.7676495  0.7592566  0.75592893 0.75\n",
      " 0.7083333  0.7062815  0.7016464  0.6844476  0.65465367 0.6506001\n",
      " 0.6437963  0.64122343 0.62469506 0.6172134  0.61237246 0.61237246\n",
      " 0.61209774 0.6109598  0.6061281  0.6030227  0.6        0.5964321\n",
      " 0.5962848  0.59487444 0.58760905 0.58389246 0.58345    0.56906945\n",
      " 0.5673498  0.5669467 ]\n"
     ]
    }
   ],
   "execution_count": 6
  },
  {
   "cell_type": "markdown",
   "source": [
    "Pearson correlation function has two major problems. If the standard deviation of either of the ratings is 0 the function will give nan result as there is a division by zero. This is a problem since in a case where the user has given same score for all movies the standard deviation will be 0 and the function will not work. For example users with ratings [5, 5, 5, 5] and [5, 5, 5, 5] will have a correlation of nan even though they are exactly similar. Also users with low and high ratings e.g. [5, 4, 5, 5] and [2, 1, 2, 2] will still have high Pearson correlation even though they are not similar at all."
   ],
   "metadata": {
    "collapsed": false
   }
  },
  {
   "cell_type": "code",
   "source": [
    "# Example of the problems with Pearson correlation\n",
    "df = pl.DataFrame(\n",
    "    {\n",
    "    \"a\": [5, 5, 5, 5],\n",
    "    \"b\": [5, 5, 5, 5],\n",
    "    \"c\": [5, 4, 5, 5],\n",
    "    \"d\": [2, 1, 2, 2],\n",
    "    }\n",
    ")\n",
    "\n",
    "print(df.select(pl.corr(\"a\", \"b\", method=\"pearson\")))\n",
    "print(df.select(pl.corr(\"c\", \"d\", method=\"pearson\")))"
   ],
   "metadata": {
    "collapsed": false,
    "ExecuteTime": {
     "end_time": "2024-11-08T11:47:20.669217Z",
     "start_time": "2024-11-08T11:47:20.658713Z"
    }
   },
   "outputs": [
    {
     "name": "stdout",
     "output_type": "stream",
     "text": [
      "shape: (1, 1)\n",
      "┌─────┐\n",
      "│ a   │\n",
      "│ --- │\n",
      "│ f64 │\n",
      "╞═════╡\n",
      "│ NaN │\n",
      "└─────┘\n",
      "shape: (1, 1)\n",
      "┌─────┐\n",
      "│ c   │\n",
      "│ --- │\n",
      "│ f64 │\n",
      "╞═════╡\n",
      "│ 1.0 │\n",
      "└─────┘\n"
     ]
    }
   ],
   "execution_count": 7
  },
  {
   "cell_type": "markdown",
   "source": [
    "#### c)\n",
    "Prediction function from course slides"
   ],
   "metadata": {
    "collapsed": false
   }
  },
  {
   "cell_type": "code",
   "source": [
    "def predict_movies(user_ratings_mean, similar_users_ratings, similar_users_ratings_mean, similarity_scores, candidate_movie_indices, num_of_movies):\n",
    "    \"\"\"\n",
    "    The prediction function from course slides.\n",
    "\n",
    "    :param user_ratings_mean: mean of user ratings\n",
    "    :param similar_users_ratings: sparse numpy 2D matrix of similar users ratings. Each row is a user and each column is a movie\n",
    "    :param similar_users_ratings_mean: numpy array of mean ratings of the similar users\n",
    "    :param similarity_scores: numpy array of similarity scores between the user and the similar users\n",
    "    :param candidate_movie_indices: numpy array of movie indices that the similar users have rated\n",
    "    :param num_of_movies: number of movies to recommend\n",
    "    :return: top ranked candidate movie indices, and their predicted ratings\n",
    "    \"\"\"\n",
    "    \n",
    "    # Compute ratings only for the candidate movies to save computation\n",
    "    candidate_similar_users_ratings = np.take(similar_users_ratings, candidate_movie_indices, axis=1)\n",
    "\n",
    "    # Subtract mean rating from each rating, (r_b,p - r_b)\n",
    "    delta_ratings = candidate_similar_users_ratings - similar_users_ratings_mean.reshape(similar_users_ratings_mean.shape[0], 1)\n",
    "\n",
    "    # Sum sim(a,b) * (r_b,p - r_b)\n",
    "    numerator = np.sum(similarity_scores.reshape(-1, 1) * delta_ratings, axis=0)\n",
    "\n",
    "    # Sum |sim(a,b)|, taking absolute value to avoid negative bias even though it should not be possible\n",
    "    denominator = np.sum(np.abs(similarity_scores))\n",
    "\n",
    "    # Sum sim(a,b) * (r_b,p - r_b) / Sum |sim(a,b)|\n",
    "    bias = numerator / denominator\n",
    "\n",
    "    # pred(a,p) = r_a + bias\n",
    "    predicted_ratings = user_ratings_mean + bias\n",
    "\n",
    "    # Rank the movies by predicted rating\n",
    "    indices = np.flip(np.argsort(predicted_ratings))\n",
    "    predicted_movie_indices = candidate_movie_indices[indices][:num_of_movies]\n",
    "    sorted_ratings = predicted_ratings[indices][:num_of_movies]\n",
    "\n",
    "    return predicted_movie_indices, sorted_ratings"
   ],
   "metadata": {
    "collapsed": false,
    "ExecuteTime": {
     "end_time": "2024-11-08T11:47:20.675190Z",
     "start_time": "2024-11-08T11:47:20.670691Z"
    }
   },
   "outputs": [],
   "execution_count": 8
  },
  {
   "cell_type": "markdown",
   "source": [
    "Let's predict movies for userId 1 using the top 50 most similar users and the prediction function from the course slides"
   ],
   "metadata": {
    "collapsed": false
   }
  },
  {
   "cell_type": "code",
   "source": [
    "# Define some helper functions to extract data from the dataframes\n",
    "\n",
    "# ratings\n",
    "def get_ratings_for_users(user_ids):\n",
    "    return (\n",
    "        ratings_df\n",
    "        .drop(\"timestamp\")\n",
    "        .sort(\"movieId\")\n",
    "        .pivot(\"userId\", index=\"movieId\")\n",
    "        .drop(\"movieId\")\n",
    "        .select([str(user_id) for user_id in user_ids])\n",
    "        .transpose(include_header=True, header_name=\"userId\", column_names=user_ids)\n",
    "        .drop(\"userId\")\n",
    "        .to_numpy()\n",
    "    )\n",
    "user_ids = np.array([1, 2, 3, 4, 5])\n",
    "print(get_ratings_for_users(user_ids))\n",
    "\n",
    "# ratings mean\n",
    "def get_mean_ratings_for_users(user_ids):\n",
    "    return (\n",
    "        ratings_df\n",
    "        .drop(\"timestamp\")\n",
    "        .sort(\"movieId\")\n",
    "        .pivot(\"userId\", index=\"movieId\")\n",
    "        .drop(\"movieId\")\n",
    "        .select([str(user_id) for user_id in user_ids.tolist()])\n",
    "        .select(pl.all().mean())\n",
    "        .transpose(include_header=True, header_name=\"userId\", column_names=[\"ratings_mean\"])\n",
    "        .cast({\"userId\": pl.Int16})\n",
    "        .filter(pl.col(\"userId\").is_in(user_ids))\n",
    "        .select(\"ratings_mean\")\n",
    "        .to_numpy()\n",
    "        .reshape(-1)\n",
    "    )\n",
    "print(get_mean_ratings_for_users(user_ids))\n",
    "\n",
    "# movie indices for movie ids\n",
    "def get_movie_indices_for_movie_ids(movie_ids):\n",
    "    return (\n",
    "        ratings_df\n",
    "        .select(\"movieId\")\n",
    "        .unique()\n",
    "        .sort(\"movieId\")\n",
    "        .with_row_index()\n",
    "        .filter(pl.col(\"movieId\").is_in(movie_ids))\n",
    "        .select(\"index\")\n",
    "        .to_numpy()\n",
    "        .reshape(-1)\n",
    "    )\n",
    "\n",
    "print(get_movie_indices_for_movie_ids(np.array([1, 2, 3, 100, 112])))\n",
    "\n",
    "# single user rating mean\n",
    "def get_user_rating_mean(user_id):\n",
    "    return get_mean_ratings_for_users(np.array([user_id]))[0]\n",
    "\n",
    "# candidate movie ids\n",
    "def get_candidate_movie_ids(user_id, similar_user_ids):\n",
    "    rated_by_user = (\n",
    "        ratings_df\n",
    "        .filter(pl.col(\"userId\") == user_id)\n",
    "        .select(\"movieId\")\n",
    "        .to_numpy()\n",
    "        .reshape(-1)\n",
    "    )\n",
    "\n",
    "    return (\n",
    "        ratings_df\n",
    "        .filter(\n",
    "            pl.col(\"userId\").is_in(similar_user_ids), # only include ratings from similar users\n",
    "            pl.col(\"movieId\").is_in(rated_by_user).not_() # only include movies that the user has not rated\n",
    "        )\n",
    "        .group_by(\"movieId\")\n",
    "        .agg()\n",
    "        .select(\"movieId\")\n",
    "        .to_numpy()\n",
    "        .reshape(-1)\n",
    "    )\n",
    "\n",
    "print(get_candidate_movie_ids(1, np.array([2, 3, 4, 5, 6]))[:10])"
   ],
   "metadata": {
    "collapsed": false,
    "ExecuteTime": {
     "end_time": "2024-11-08T11:47:20.834726Z",
     "start_time": "2024-11-08T11:47:20.677013Z"
    }
   },
   "outputs": [
    {
     "name": "stdout",
     "output_type": "stream",
     "text": [
      "[[ 4. nan  4. ... nan nan nan]\n",
      " [nan nan nan ... nan nan nan]\n",
      " [nan nan nan ... nan nan nan]\n",
      " [nan nan nan ... nan nan nan]\n",
      " [ 4. nan nan ... nan nan nan]]\n",
      "[4.3663793 3.9482758 2.4358974 3.5555556 3.6363637]\n",
      "[ 0  1  2 88 99]\n",
      "[  837   468 74458  1093   775   640   102   377   416   575]\n"
     ]
    }
   ],
   "execution_count": 9
  },
  {
   "cell_type": "markdown",
   "source": [
    "Now predict 10 movies for userId 1 using the top 50 most similar users"
   ],
   "metadata": {
    "collapsed": false
   }
  },
  {
   "cell_type": "code",
   "source": [
    "# Recommend 10 movies for userId 1\n",
    "user_id = 1\n",
    "\n",
    "user_ratings_mean = get_user_rating_mean(user_id)\n",
    "top_50_most_similar_user_ids, similarity_scores = get_top_n_most_similar_users_pearson(1, 50)\n",
    "similar_users_ratings = np.nan_to_num(get_ratings_for_users(top_50_most_similar_user_ids))\n",
    "similar_users_ratings_mean = get_mean_ratings_for_users(top_50_most_similar_user_ids)\n",
    "candidate_movie_ids = get_candidate_movie_ids(user_id, top_50_most_similar_user_ids)\n",
    "candidate_movie_indices = get_movie_indices_for_movie_ids(candidate_movie_ids)\n",
    "\n",
    "predicted_movie_indices, ratings = predict_movies(user_ratings_mean, similar_users_ratings, similar_users_ratings_mean, similarity_scores, candidate_movie_indices, 10)\n",
    "\n",
    "print('predicted movie indices:')\n",
    "print(predicted_movie_indices)\n",
    "print()\n",
    "print('predicted ratings:')\n",
    "print(ratings)\n",
    "print()\n",
    "\n",
    "top_10_ratings_df = (\n",
    "    pl.DataFrame({\"index\": predicted_movie_indices,\n",
    "                  \"predicted_rating\": ratings})\n",
    "    .with_columns(pl.col(\"index\").cast(pl.Int32))\n",
    ")\n",
    "\n",
    "# print top 10 movies\n",
    "top_10_movies_df = (\n",
    "    movies_df\n",
    "    .filter(pl.col(\"index\").is_in(predicted_movie_indices))\n",
    "    .join(top_10_ratings_df, on=\"index\")\n",
    "    .drop(\"index\")\n",
    ")\n",
    "\n",
    "print(top_10_movies_df)"
   ],
   "metadata": {
    "collapsed": false,
    "ExecuteTime": {
     "end_time": "2024-11-08T11:47:21.087977Z",
     "start_time": "2024-11-08T11:47:20.836717Z"
    }
   },
   "outputs": [
    {
     "name": "stdout",
     "output_type": "stream",
     "text": [
      "predicted movie indices:\n",
      "[ 277 7355 3633 4791 8358 4131 6755 6693  123 4421]\n",
      "\n",
      "predicted ratings:\n",
      "[2.3414884 1.8985755 1.8432145 1.7272666 1.5624275 1.5383899 1.5101435\n",
      " 1.5003035 1.4971073 1.4793124]\n",
      "\n",
      "shape: (10, 4)\n",
      "┌─────────┬─────────────────────────────────┬─────────────────────────────────┬──────────────────┐\n",
      "│ movieId ┆ title                           ┆ genres                          ┆ predicted_rating │\n",
      "│ ---     ┆ ---                             ┆ ---                             ┆ ---              │\n",
      "│ i32     ┆ str                             ┆ str                             ┆ f32              │\n",
      "╞═════════╪═════════════════════════════════╪═════════════════════════════════╪══════════════════╡\n",
      "│ 318     ┆ Shawshank Redemption, The (199… ┆ Crime|Drama                     ┆ 2.341488         │\n",
      "│ 78499   ┆ Toy Story 3 (2010)              ┆ Adventure|Animation|Children|C… ┆ 1.898576         │\n",
      "│ 4988    ┆ White Water Summer (1987)       ┆ Adventure                       ┆ 1.843215         │\n",
      "│ 7137    ┆ Cooler, The (2003)              ┆ Comedy|Drama|Romance            ┆ 1.727267         │\n",
      "│ 108945  ┆ RoboCop (2014)                  ┆ Action|Crime|Sci-Fi|IMAX        ┆ 1.562428         │\n",
      "│ 5943    ┆ Maid in Manhattan (2002)        ┆ Comedy|Romance                  ┆ 1.53839          │\n",
      "│ 59667   ┆ Nina's Heavenly Delights (2006… ┆ Comedy                          ┆ 1.510144         │\n",
      "│ 58293   ┆ 10,000 BC (2008)                ┆ Adventure|Romance|Thriller      ┆ 1.500304         │\n",
      "│ 150     ┆ Apollo 13 (1995)                ┆ Adventure|Drama|IMAX            ┆ 1.497107         │\n",
      "│ 6533    ┆ What's Up, Doc? (1972)          ┆ Comedy                          ┆ 1.479312         │\n",
      "└─────────┴─────────────────────────────────┴─────────────────────────────────┴──────────────────┘\n"
     ]
    }
   ],
   "execution_count": 10
  },
  {
   "cell_type": "markdown",
   "source": "From the results we can see that the Pearson correlation function did not work quite well as a user similarity measure. The best predicted rating is only 2.34 which is considered a bad rating.",
   "metadata": {
    "collapsed": false
   }
  },
  {
   "cell_type": "markdown",
   "source": [
    "#### d)\n",
    "\n",
    "New similarity function\n",
    "\n",
    "We chose euclidean distance as a distance measure for the basis of the new similarity function since it is very accurate measure of distance. Euclidean distance does not work well on sparse arrays but it is not a problem since we are only interested in common predicted movies between two users in order to calculate their similarity. We use nan_eucliden_distance from sklearn which takes into account only commonly rated movies of two users. \n",
    "\n",
    "To convert euclidean distance into a similarity measure we do the following:\n",
    "- Calculate average distance from user ratings for all users\n",
    "- Do max scaling for the average distances in order to scale it to range [0-1]\n",
    "- Inverse distance to make it a similarity score\n",
    "- Users with less than 5 commonly rated movies with the queried user will be ignored since there are too few common ratings "
   ],
   "metadata": {
    "collapsed": false
   }
  },
  {
   "metadata": {
    "ExecuteTime": {
     "end_time": "2024-11-08T11:47:26.072656Z",
     "start_time": "2024-11-08T11:47:21.089656Z"
    }
   },
   "cell_type": "code",
   "source": [
    "from sklearn.metrics.pairwise import nan_euclidean_distances\n",
    "\n",
    "\n",
    "def get_top_n_most_similar_users_euclidean(user_id, n):\n",
    "    rating_vectors_df = (\n",
    "        ratings_df\n",
    "        .drop(\"timestamp\")\n",
    "        .pivot(\"movieId\", index=\"userId\")\n",
    "    )\n",
    "    \n",
    "    user_ratings = rating_vectors_df.filter(pl.col(\"userId\") == user_id).drop(\"userId\").to_numpy()\n",
    "    \n",
    "    rating_vectors = (\n",
    "        rating_vectors_df\n",
    "        .drop(\"userId\")\n",
    "        .to_numpy()\n",
    "    )\n",
    "    \n",
    "    # Calculate distance\n",
    "    distances = nan_euclidean_distances(rating_vectors, user_ratings).reshape(-1)\n",
    "    \n",
    "    # Find nan values and count the amount of common movies between user and all users\n",
    "    nans_in_user_ratings = np.isnan(user_ratings[0])\n",
    "    nans_in_rating_vectors = np.isnan(rating_vectors)\n",
    "    common_rated_movies = 1 - np.logical_or(nans_in_user_ratings, nans_in_rating_vectors)\n",
    "    common_rated_movies_count = np.sum(common_rated_movies, axis=1).astype(np.float32) \n",
    "    \n",
    "    # Ignore users withe less than 5 common movies\n",
    "    common_rated_movies_count[common_rated_movies_count < 5] = np.nan \n",
    "    \n",
    "    # Count average distances\n",
    "    average_distances = distances / common_rated_movies_count\n",
    "    \n",
    "    # Max scaling\n",
    "    max_average_distance = np.nanmax(average_distances)\n",
    "    \n",
    "    # Distance to similarity. Nan values are set to zero\n",
    "    similarities = np.nan_to_num(1 - (average_distances / max_average_distance))\n",
    "    \n",
    "    distance_df = (\n",
    "        pl.DataFrame(\n",
    "            {\n",
    "                \"userId\": rating_vectors_df.select(\"userId\"),\n",
    "                \"similarity\": similarities\n",
    "            }\n",
    "        )\n",
    "        .sort(\"similarity\", descending=True)\n",
    "        .limit(n)\n",
    "    )\n",
    "    \n",
    "    return (\n",
    "        distance_df\n",
    "        .select(\"userId\")\n",
    "        .to_numpy()\n",
    "        .reshape(-1)\n",
    "    ), (\n",
    "        distance_df\n",
    "        .select(\"similarity\")\n",
    "        .to_numpy()\n",
    "        .reshape(-1)\n",
    "    )\n",
    "\n",
    "# Calculate the top 50 most similar users to userId 1\n",
    "user_ids, similarity_scores = get_top_n_most_similar_users_euclidean(1, 50)\n",
    "print(user_ids)\n",
    "print(similarity_scores)"
   ],
   "outputs": [
    {
     "name": "stdout",
     "output_type": "stream",
     "text": [
      "[  1  77 414 599 448 274 380 474 288 597  64 590 480 249 555  45  91 182\n",
      " 469 477 561  57 226  68 387 608 202 239 483  19 307 600 452 368 610 135\n",
      "  18 438 217 606 580 357 318 219  66 177 313 603 122 266]\n",
      "[1.         1.         0.99025923 0.98476946 0.98414505 0.9835183\n",
      " 0.9833781  0.98232174 0.9821547  0.9821045  0.98187095 0.9818385\n",
      " 0.9814875  0.9805435  0.9804517  0.98007464 0.9800217  0.9799595\n",
      " 0.97988224 0.97982675 0.97919303 0.979186   0.97894776 0.9789022\n",
      " 0.97859925 0.9784891  0.97696626 0.97677267 0.9766887  0.9758603\n",
      " 0.9745885  0.97452873 0.97402376 0.9738219  0.97379315 0.9736019\n",
      " 0.9730914  0.97290325 0.9720469  0.9720361  0.9718734  0.97155267\n",
      " 0.971082   0.9710255  0.9706603  0.9704868  0.9703443  0.9702841\n",
      " 0.970108   0.9698808 ]\n"
     ]
    }
   ],
   "execution_count": 11
  },
  {
   "metadata": {},
   "cell_type": "markdown",
   "source": "Let's try our own similarity function to produce recommendations"
  },
  {
   "metadata": {
    "ExecuteTime": {
     "end_time": "2024-11-08T13:08:11.998170Z",
     "start_time": "2024-11-08T13:08:11.217505Z"
    }
   },
   "cell_type": "code",
   "source": [
    "# Recommend 10 movies for userId 1\n",
    "user_id = 1\n",
    "\n",
    "user_ratings_mean = get_user_rating_mean(user_id)\n",
    "top_50_most_similar_user_ids, similarity_scores = get_top_n_most_similar_users_euclidean(1, 50)\n",
    "similar_users_ratings = np.nan_to_num(get_ratings_for_users(top_50_most_similar_user_ids))\n",
    "similar_users_ratings_mean = get_mean_ratings_for_users(top_50_most_similar_user_ids)\n",
    "candidate_movie_ids = get_candidate_movie_ids(user_id, top_50_most_similar_user_ids)\n",
    "candidate_movie_indices = get_movie_indices_for_movie_ids(candidate_movie_ids)\n",
    "\n",
    "predicted_movie_indices, ratings = predict_movies(user_ratings_mean, similar_users_ratings, similar_users_ratings_mean, similarity_scores, candidate_movie_indices, 10)\n",
    "\n",
    "print('predicted movie indices:')\n",
    "print(predicted_movie_indices)\n",
    "print()\n",
    "print('predicted ratings:')\n",
    "print(ratings)\n",
    "print()\n",
    "\n",
    "top_10_ratings_df = (\n",
    "    pl.DataFrame({\"index\": predicted_movie_indices,\n",
    "                  \"predicted_rating\": ratings})\n",
    "    .with_columns(pl.col(\"index\").cast(pl.Int32))\n",
    ")\n",
    "\n",
    "# print top 10 movies\n",
    "top_10_movies_df = (\n",
    "    movies_df\n",
    "    .filter(pl.col(\"index\").is_in(predicted_movie_indices))\n",
    "    .join(top_10_ratings_df, on=\"index\")\n",
    "    .drop(\"index\")\n",
    ")\n",
    "\n",
    "print(top_10_movies_df)"
   ],
   "outputs": [
    {
     "name": "stdout",
     "output_type": "stream",
     "text": [
      "predicted movie indices:\n",
      "[ 507 2077  659  793   31 2194  277  901 3633  921]\n",
      "\n",
      "predicted ratings:\n",
      "[4.5639324 4.363309  4.333353  4.303628  4.263337  4.205062  4.1032257\n",
      " 3.9740975 3.967545  3.9452226]\n",
      "\n",
      "shape: (10, 4)\n",
      "┌─────────┬─────────────────────────────────┬─────────────────────────────────┬──────────────────┐\n",
      "│ movieId ┆ title                           ┆ genres                          ┆ predicted_rating │\n",
      "│ ---     ┆ ---                             ┆ ---                             ┆ ---              │\n",
      "│ i32     ┆ str                             ┆ str                             ┆ f32              │\n",
      "╞═════════╪═════════════════════════════════╪═════════════════════════════════╪══════════════════╡\n",
      "│ 589     ┆ Terminator 2: Judgment Day (19… ┆ Action|Sci-Fi                   ┆ 4.563932         │\n",
      "│ 2761    ┆ Iron Giant, The (1999)          ┆ Adventure|Animation|Children|D… ┆ 4.363309         │\n",
      "│ 858     ┆ Godfather, The (1972)           ┆ Crime|Drama                     ┆ 4.333353         │\n",
      "│ 1036    ┆ Die Hard (1988)                 ┆ Action|Crime|Thriller           ┆ 4.303628         │\n",
      "│ 32      ┆ Twelve Monkeys (a.k.a. 12 Monk… ┆ Mystery|Sci-Fi|Thriller         ┆ 4.263337         │\n",
      "│ 2917    ┆ Body Heat (1981)                ┆ Crime|Thriller                  ┆ 4.205062         │\n",
      "│ 318     ┆ Shawshank Redemption, The (199… ┆ Crime|Drama                     ┆ 4.103226         │\n",
      "│ 1199    ┆ Brazil (1985)                   ┆ Fantasy|Sci-Fi                  ┆ 3.974097         │\n",
      "│ 4988    ┆ White Water Summer (1987)       ┆ Adventure                       ┆ 3.967545         │\n",
      "│ 1220    ┆ Blues Brothers, The (1980)      ┆ Action|Comedy|Musical           ┆ 3.945223         │\n",
      "└─────────┴─────────────────────────────────┴─────────────────────────────────┴──────────────────┘\n"
     ]
    }
   ],
   "execution_count": 119
  },
  {
   "metadata": {},
   "cell_type": "markdown",
   "source": "From the results we can see how our own euclidean distance based similarity measure is much better than the pearson correlation based similarity measure. All the predicted ratings are over 3.5 which is great!"
  },
  {
   "cell_type": "markdown",
   "source": [
    "#### e)\n",
    "User-based collaborative filtering for group recommendations.\n",
    "\n",
    "Let's do group recommendations for a group of users using our own similarity function."
   ],
   "metadata": {
    "collapsed": false
   }
  },
  {
   "cell_type": "code",
   "source": [
    "# Create a group of users by picking the first 5 userIds\n",
    "user_ids = [1, 2, 3, 4, 5]\n",
    "\n",
    "# Combine all the above functions to predict movies for a single user\n",
    "def predict_movies_for_user(user_id, num_of_movies):\n",
    "    similar_user_ids, similarity_scores = get_top_n_most_similar_users_euclidean(user_id, 50)\n",
    "    \n",
    "    user_ratings_mean = get_user_rating_mean(user_id)\n",
    "    # print(user_ratings_mean)\n",
    "    similar_users_ratings = np.nan_to_num(get_ratings_for_users(similar_user_ids))\n",
    "    # print(similar_users_ratings)\n",
    "    similar_users_ratings_mean = get_mean_ratings_for_users(similar_user_ids)\n",
    "    # print(similar_users_ratings_mean)\n",
    "    candidate_movie_ids = get_candidate_movie_ids(user_id, similar_user_ids)\n",
    "\n",
    "    candidate_movie_indices = get_movie_indices_for_movie_ids(candidate_movie_ids)\n",
    "\n",
    "    return predict_movies(user_ratings_mean, similar_users_ratings, similar_users_ratings_mean, similarity_scores, candidate_movie_indices, num_of_movies)\n",
    "\n",
    "\n",
    "n_movies = 500\n",
    "predicted_movie_indices = np.ndarray(shape=(len(user_ids), n_movies), dtype=np.int32)\n",
    "predicted_ratings = np.ndarray(shape=(len(user_ids), n_movies), dtype=np.float32)\n",
    "\n",
    "for index, user_id in enumerate(user_ids):\n",
    "    user_movie_indices, ratings = predict_movies_for_user(user_id, n_movies)\n",
    "    predicted_movie_indices[index] = user_movie_indices\n",
    "    predicted_ratings[index] = ratings\n",
    "\n",
    "# Print top 10 movies for each user\n",
    "print('Predicted top 10 movie indices:')\n",
    "print(predicted_movie_indices[:, :10])\n",
    "print()\n",
    "print('Predicted top 10 ratings:')\n",
    "print(predicted_ratings[:, :10])\n",
    "print()\n",
    "\n",
    "# Combine the predictions into a dataframe\n",
    "predictions_df = (\n",
    "    pl.DataFrame({\n",
    "         \"movie_index\": predicted_movie_indices.reshape(-1),\n",
    "         \"predicted_rating\": predicted_ratings.reshape(-1),\n",
    "         \"userId\": np.array([[user_id] * n_movies for user_id in user_ids]).reshape(-1)\n",
    "    })\n",
    "    .unique()\n",
    "    )\n",
    "\n",
    "# Find movies which have rating for all users in the group\n",
    "movie_ratings_count = (\n",
    "    predictions_df\n",
    "    .group_by(\"movie_index\")\n",
    "    .agg(\n",
    "        pl.count(\"predicted_rating\")\n",
    "        .alias(\"ratings_count\")\n",
    "    )\n",
    "    .filter(pl.col(\"ratings_count\") >= 5)\n",
    "    .sort(\"ratings_count\", descending=True)\n",
    ")\n",
    "\n",
    "# filter predictions_df to only include movies that have been rated by all users in the group\n",
    "predictions_df = (\n",
    "    predictions_df\n",
    "    .filter(\n",
    "        pl.col(\"movie_index\")\n",
    "        .is_in(movie_ratings_count.select(\"movie_index\")\n",
    "        )\n",
    "    )\n",
    "    .sort(\"movie_index\")\n",
    "    .pivot(\"movie_index\", index=\"userId\")\n",
    ")\n",
    "\n",
    "print(\"predicted ratings\")\n",
    "print(predictions_df)"
   ],
   "metadata": {
    "collapsed": false,
    "ExecuteTime": {
     "end_time": "2024-11-08T12:22:22.315664Z",
     "start_time": "2024-11-08T12:22:19.125306Z"
    }
   },
   "outputs": [
    {
     "name": "stdout",
     "output_type": "stream",
     "text": [
      "Predicted top 10 movie indices:\n",
      "[[ 507 2077  659  793   31 2194  277  901 3633  921]\n",
      " [2224 1938  314  257  510  224 4791  659 3633  897]\n",
      " [ 897  224  910  257  899 1938  510  914  901  314]\n",
      " [ 659  314  277  910   46  827  835  968  914  418]\n",
      " [ 314  510  418  334  436   43   31  505  134  615]]\n",
      "\n",
      "Predicted top 10 ratings:\n",
      "[[4.5639324 4.363309  4.333353  4.303628  4.263337  4.205062  4.1032257\n",
      "  3.9740975 3.967545  3.9452226]\n",
      " [4.274893  4.1791797 4.073797  4.0625973 3.767443  3.516509  3.5092556\n",
      "  3.481159  3.4163282 3.3739378]\n",
      " [3.161363  3.1214013 2.912777  2.8910916 2.805883  2.7887506 2.6909418\n",
      "  2.6833398 2.5243783 2.5198698]\n",
      " [3.7588086 3.7539608 3.6430898 3.62391   3.4937088 3.3878906 3.384595\n",
      "  3.3761842 3.3065298 3.3033566]\n",
      " [4.342993  3.7937462 3.6620479 3.2765875 3.1103246 3.066608  3.0409098\n",
      "  2.652749  2.5919852 2.56535  ]]\n",
      "\n",
      "predicted ratings\n",
      "shape: (5, 156)\n",
      "┌────────┬──────────┬──────────┬──────────┬───┬──────────┬──────────┬──────────┬──────────┐\n",
      "│ userId ┆ 1        ┆ 9        ┆ 15       ┆ … ┆ 6755     ┆ 7022     ┆ 7026     ┆ 7195     │\n",
      "│ ---    ┆ ---      ┆ ---      ┆ ---      ┆   ┆ ---      ┆ ---      ┆ ---      ┆ ---      │\n",
      "│ i64    ┆ f32      ┆ f32      ┆ f32      ┆   ┆ f32      ┆ f32      ┆ f32      ┆ f32      │\n",
      "╞════════╪══════════╪══════════╪══════════╪═══╪══════════╪══════════╪══════════╪══════════╡\n",
      "│ 5      ┆ 2.203776 ┆ 2.166185 ┆ 1.764227 ┆ … ┆ 1.035257 ┆ 1.056461 ┆ 1.094321 ┆ 0.986258 │\n",
      "│ 1      ┆ 2.705374 ┆ 2.836325 ┆ 2.855021 ┆ … ┆ 2.446226 ┆ 2.30558  ┆ 2.255683 ┆ 2.255555 │\n",
      "│ 3      ┆ 0.978737 ┆ 1.145303 ┆ 0.973632 ┆ … ┆ 0.674368 ┆ 0.685756 ┆ 0.322654 ┆ 0.56039  │\n",
      "│ 4      ┆ 1.87362  ┆ 1.828535 ┆ 1.768546 ┆ … ┆ 1.575064 ┆ 1.286379 ┆ 1.236199 ┆ 1.225518 │\n",
      "│ 2      ┆ 1.804563 ┆ 1.261754 ┆ 1.880416 ┆ … ┆ 2.624588 ┆ 2.900361 ┆ 2.896729 ┆ 2.785417 │\n",
      "└────────┴──────────┴──────────┴──────────┴───┴──────────┴──────────┴──────────┴──────────┘\n"
     ]
    }
   ],
   "execution_count": 88
  },
  {
   "cell_type": "markdown",
   "source": [
    "Average aggregated recommendations"
   ],
   "metadata": {
    "collapsed": false
   }
  },
  {
   "cell_type": "code",
   "source": [
    "# Calculate the average rating for each movie\n",
    "average_ratings_df = (\n",
    "    predictions_df\n",
    "    .drop(\"userId\")\n",
    "    .mean()\n",
    ")\n",
    "\n",
    "print(\"Average ratings:\")\n",
    "print(average_ratings_df)\n",
    "print()\n",
    "\n",
    "# find the top 10 movies based on the average rating\n",
    "top_10_movies_avg_df = (\n",
    "    average_ratings_df\n",
    "    .transpose(include_header=True, header_name=\"index\", column_names=[\"avg_rating\"])\n",
    "    .with_columns(\n",
    "        pl.col(\"index\")\n",
    "        .cast(pl.Int32)\n",
    "    )\n",
    "    .sort(\"avg_rating\", descending=True)\n",
    "    .limit(10)\n",
    "    .join(movies_df, on=\"index\", how=\"left\")\n",
    ")\n",
    "\n",
    "print(\"Top 10 movies:\")\n",
    "print(top_10_movies_avg_df)\n",
    "print()"
   ],
   "metadata": {
    "collapsed": false,
    "ExecuteTime": {
     "end_time": "2024-11-08T11:47:28.663169Z",
     "start_time": "2024-11-08T11:47:28.648708Z"
    }
   },
   "outputs": [
    {
     "name": "stdout",
     "output_type": "stream",
     "text": [
      "Average ratings:\n",
      "shape: (1, 155)\n",
      "┌──────────┬─────────┬──────────┬──────────┬───┬──────────┬──────────┬──────────┬──────────┐\n",
      "│ 1        ┆ 9       ┆ 15       ┆ 92       ┆ … ┆ 6755     ┆ 7022     ┆ 7026     ┆ 7195     │\n",
      "│ ---      ┆ ---     ┆ ---      ┆ ---      ┆   ┆ ---      ┆ ---      ┆ ---      ┆ ---      │\n",
      "│ f32      ┆ f32     ┆ f32      ┆ f32      ┆   ┆ f32      ┆ f32      ┆ f32      ┆ f32      │\n",
      "╞══════════╪═════════╪══════════╪══════════╪═══╪══════════╪══════════╪══════════╪══════════╡\n",
      "│ 1.913214 ┆ 1.84762 ┆ 1.848369 ┆ 1.594528 ┆ … ┆ 1.671101 ┆ 1.646907 ┆ 1.561117 ┆ 1.562628 │\n",
      "└──────────┴─────────┴──────────┴──────────┴───┴──────────┴──────────┴──────────┴──────────┘\n",
      "\n",
      "Top 10 movies:\n",
      "shape: (10, 5)\n",
      "┌───────┬────────────┬─────────┬─────────────────────────────────┬──────────────────────────┐\n",
      "│ index ┆ avg_rating ┆ movieId ┆ title                           ┆ genres                   │\n",
      "│ ---   ┆ ---        ┆ ---     ┆ ---                             ┆ ---                      │\n",
      "│ i32   ┆ f32        ┆ i32     ┆ str                             ┆ str                      │\n",
      "╞═══════╪════════════╪═════════╪═════════════════════════════════╪══════════════════════════╡\n",
      "│ 659   ┆ 3.251274   ┆ 858     ┆ Godfather, The (1972)           ┆ Crime|Drama              │\n",
      "│ 2194  ┆ 2.795218   ┆ 2917    ┆ Body Heat (1981)                ┆ Crime|Thriller           │\n",
      "│ 3633  ┆ 2.776587   ┆ 4988    ┆ White Water Summer (1987)       ┆ Adventure                │\n",
      "│ 793   ┆ 2.75547    ┆ 1036    ┆ Die Hard (1988)                 ┆ Action|Crime|Thriller    │\n",
      "│ 921   ┆ 2.746333   ┆ 1220    ┆ Blues Brothers, The (1980)      ┆ Action|Comedy|Musical    │\n",
      "│ 901   ┆ 2.66538    ┆ 1199    ┆ Brazil (1985)                   ┆ Fantasy|Sci-Fi           │\n",
      "│ 1266  ┆ 2.63823    ┆ 1681    ┆ Mortal Kombat: Annihilation (1… ┆ Action|Adventure|Fantasy │\n",
      "│ 4791  ┆ 2.592922   ┆ 7137    ┆ Cooler, The (2003)              ┆ Comedy|Drama|Romance     │\n",
      "│ 4131  ┆ 2.562054   ┆ 5943    ┆ Maid in Manhattan (2002)        ┆ Comedy|Romance           │\n",
      "│ 474   ┆ 2.523386   ┆ 541     ┆ Blade Runner (1982)             ┆ Action|Sci-Fi|Thriller   │\n",
      "└───────┴────────────┴─────────┴─────────────────────────────────┴──────────────────────────┘\n",
      "\n"
     ]
    }
   ],
   "execution_count": 13
  },
  {
   "cell_type": "markdown",
   "source": [
    "Least misery aggregated recommendations"
   ],
   "metadata": {
    "collapsed": false
   }
  },
  {
   "cell_type": "code",
   "source": [
    "# Calculate least misery rating for each movie\n",
    "least_misery_ratings_df = (\n",
    "    predictions_df\n",
    "    .drop(\"userId\")\n",
    "    .min()\n",
    ")\n",
    "\n",
    "print(\"Least misery ratings:\")\n",
    "print(least_misery_ratings_df)\n",
    "print()\n",
    "\n",
    "# find the top 10 movies based on the least misery rating\n",
    "top_10_movies_least_misery_df = (\n",
    "    least_misery_ratings_df\n",
    "    .transpose(include_header=True, header_name=\"index\", column_names=[\"least_misery_rating\"])\n",
    "    .with_columns(\n",
    "        pl.col(\"index\")\n",
    "        .cast(pl.Int32)\n",
    "    )\n",
    "    .sort(\"least_misery_rating\", descending=True)\n",
    "    .limit(10)\n",
    "    .join(movies_df, on=\"index\", how=\"left\")\n",
    ")\n",
    "\n",
    "print(\"Top 10 movies:\")\n",
    "print(top_10_movies_least_misery_df)\n",
    "print()"
   ],
   "metadata": {
    "collapsed": false,
    "ExecuteTime": {
     "end_time": "2024-11-08T11:47:28.679292Z",
     "start_time": "2024-11-08T11:47:28.665624Z"
    }
   },
   "outputs": [
    {
     "name": "stdout",
     "output_type": "stream",
     "text": [
      "Least misery ratings:\n",
      "shape: (1, 155)\n",
      "┌──────────┬──────────┬──────────┬─────────┬───┬──────────┬──────────┬──────────┬─────────┐\n",
      "│ 1        ┆ 9        ┆ 15       ┆ 92      ┆ … ┆ 6755     ┆ 7022     ┆ 7026     ┆ 7195    │\n",
      "│ ---      ┆ ---      ┆ ---      ┆ ---     ┆   ┆ ---      ┆ ---      ┆ ---      ┆ ---     │\n",
      "│ f32      ┆ f32      ┆ f32      ┆ f32     ┆   ┆ f32      ┆ f32      ┆ f32      ┆ f32     │\n",
      "╞══════════╪══════════╪══════════╪═════════╪═══╪══════════╪══════════╪══════════╪═════════╡\n",
      "│ 0.978737 ┆ 1.145303 ┆ 0.973632 ┆ 0.50591 ┆ … ┆ 0.674368 ┆ 0.685756 ┆ 0.322654 ┆ 0.56039 │\n",
      "└──────────┴──────────┴──────────┴─────────┴───┴──────────┴──────────┴──────────┴─────────┘\n",
      "\n",
      "Top 10 movies:\n",
      "shape: (10, 5)\n",
      "┌───────┬─────────────────────┬─────────┬─────────────────────────────┬────────────────────────────┐\n",
      "│ index ┆ least_misery_rating ┆ movieId ┆ title                       ┆ genres                     │\n",
      "│ ---   ┆ ---                 ┆ ---     ┆ ---                         ┆ ---                        │\n",
      "│ i32   ┆ f32                 ┆ i32     ┆ str                         ┆ str                        │\n",
      "╞═══════╪═════════════════════╪═════════╪═════════════════════════════╪════════════════════════════╡\n",
      "│ 659   ┆ 2.324125            ┆ 858     ┆ Godfather, The (1972)       ┆ Crime|Drama                │\n",
      "│ 921   ┆ 1.995953            ┆ 1220    ┆ Blues Brothers, The (1980)  ┆ Action|Comedy|Musical      │\n",
      "│ 793   ┆ 1.924579            ┆ 1036    ┆ Die Hard (1988)             ┆ Action|Crime|Thriller      │\n",
      "│ 2194  ┆ 1.875343            ┆ 2917    ┆ Body Heat (1981)            ┆ Crime|Thriller             │\n",
      "│ 901   ┆ 1.766048            ┆ 1199    ┆ Brazil (1985)               ┆ Fantasy|Sci-Fi             │\n",
      "│ 474   ┆ 1.755231            ┆ 541     ┆ Blade Runner (1982)         ┆ Action|Sci-Fi|Thriller     │\n",
      "│ 254   ┆ 1.747078            ┆ 293     ┆ Léon: The Professional      ┆ Action|Crime|Drama|Thrille │\n",
      "│       ┆                     ┆         ┆ (a.k.a.…                    ┆ r                          │\n",
      "│ 3633  ┆ 1.679273            ┆ 4988    ┆ White Water Summer (1987)   ┆ Adventure                  │\n",
      "│ 706   ┆ 1.656095            ┆ 924     ┆ 2001: A Space Odyssey       ┆ Adventure|Drama|Sci-Fi     │\n",
      "│       ┆                     ┆         ┆ (1968)                      ┆                            │\n",
      "│ 1157  ┆ 1.597535            ┆ 1526    ┆ Fathers' Day (1997)         ┆ Comedy                     │\n",
      "└───────┴─────────────────────┴─────────┴─────────────────────────────┴────────────────────────────┘\n",
      "\n"
     ]
    }
   ],
   "execution_count": 14
  },
  {
   "cell_type": "code",
   "source": [
    "# Find movies that appear in both top 10 lists\n",
    "common_movies = (\n",
    "    top_10_movies_avg_df\n",
    "    .join(top_10_movies_least_misery_df, on=\"index\", how=\"inner\")\n",
    "    .select([\"index\", \"title\", \"avg_rating\", \"least_misery_rating\"])\n",
    ")\n",
    "\n",
    "print(\"Common movies:\")\n",
    "print(common_movies)\n",
    "\n",
    "# Find movies that appear in only one of the top 10 lists\n",
    "unique_movies_avg = (\n",
    "    top_10_movies_avg_df\n",
    "    .join(top_10_movies_least_misery_df, on=\"index\", how=\"anti\")\n",
    "    .select([\"index\", \"title\", \"avg_rating\"])\n",
    ")\n",
    "\n",
    "print(\"Unique movies avg:\")\n",
    "print(unique_movies_avg)\n",
    "print()\n",
    "\n",
    "unique_movies_least_misery = (\n",
    "    top_10_movies_least_misery_df\n",
    "    .join(top_10_movies_avg_df, on=\"index\", how=\"anti\")\n",
    "    .select([\"index\", \"title\", \"least_misery_rating\"])\n",
    ")\n",
    "\n",
    "print(\"Unique movies least misery:\")\n",
    "print(unique_movies_least_misery)\n",
    "print()"
   ],
   "metadata": {
    "collapsed": false,
    "ExecuteTime": {
     "end_time": "2024-11-08T11:47:28.696294Z",
     "start_time": "2024-11-08T11:47:28.681971Z"
    }
   },
   "outputs": [
    {
     "name": "stdout",
     "output_type": "stream",
     "text": [
      "Common movies:\n",
      "shape: (7, 4)\n",
      "┌───────┬────────────────────────────┬────────────┬─────────────────────┐\n",
      "│ index ┆ title                      ┆ avg_rating ┆ least_misery_rating │\n",
      "│ ---   ┆ ---                        ┆ ---        ┆ ---                 │\n",
      "│ i32   ┆ str                        ┆ f32        ┆ f32                 │\n",
      "╞═══════╪════════════════════════════╪════════════╪═════════════════════╡\n",
      "│ 659   ┆ Godfather, The (1972)      ┆ 3.251274   ┆ 2.324125            │\n",
      "│ 921   ┆ Blues Brothers, The (1980) ┆ 2.746333   ┆ 1.995953            │\n",
      "│ 793   ┆ Die Hard (1988)            ┆ 2.75547    ┆ 1.924579            │\n",
      "│ 2194  ┆ Body Heat (1981)           ┆ 2.795218   ┆ 1.875343            │\n",
      "│ 901   ┆ Brazil (1985)              ┆ 2.66538    ┆ 1.766048            │\n",
      "│ 474   ┆ Blade Runner (1982)        ┆ 2.523386   ┆ 1.755231            │\n",
      "│ 3633  ┆ White Water Summer (1987)  ┆ 2.776587   ┆ 1.679273            │\n",
      "└───────┴────────────────────────────┴────────────┴─────────────────────┘\n",
      "Unique movies avg:\n",
      "shape: (3, 3)\n",
      "┌───────┬─────────────────────────────────┬────────────┐\n",
      "│ index ┆ title                           ┆ avg_rating │\n",
      "│ ---   ┆ ---                             ┆ ---        │\n",
      "│ i32   ┆ str                             ┆ f32        │\n",
      "╞═══════╪═════════════════════════════════╪════════════╡\n",
      "│ 1266  ┆ Mortal Kombat: Annihilation (1… ┆ 2.63823    │\n",
      "│ 4791  ┆ Cooler, The (2003)              ┆ 2.592922   │\n",
      "│ 4131  ┆ Maid in Manhattan (2002)        ┆ 2.562054   │\n",
      "└───────┴─────────────────────────────────┴────────────┘\n",
      "\n",
      "Unique movies least misery:\n",
      "shape: (3, 3)\n",
      "┌───────┬─────────────────────────────────┬─────────────────────┐\n",
      "│ index ┆ title                           ┆ least_misery_rating │\n",
      "│ ---   ┆ ---                             ┆ ---                 │\n",
      "│ i32   ┆ str                             ┆ f32                 │\n",
      "╞═══════╪═════════════════════════════════╪═════════════════════╡\n",
      "│ 254   ┆ Léon: The Professional (a.k.a.… ┆ 1.747078            │\n",
      "│ 706   ┆ 2001: A Space Odyssey (1968)    ┆ 1.656095            │\n",
      "│ 1157  ┆ Fathers' Day (1997)             ┆ 1.597535            │\n",
      "└───────┴─────────────────────────────────┴─────────────────────┘\n",
      "\n"
     ]
    }
   ],
   "execution_count": 15
  },
  {
   "cell_type": "markdown",
   "source": [
    "From the previous results we can see that the top 10 movies are mostly same for the average and least misery aggregation methods. Both methods have 7 movies in common and 3 unique movies. The order of the common movies varies alot. This result is expected since the two methods are based on different principles.\n",
    "\n",
    "From the predicted scores in both methods we can see that the predictions are not very good. This however, is not a fault of the measure but the group of users that we have chosen. The group of users do not seem to share a preference when it comes to movies. If we had chosen a group of users that have more similar taste, both methods would show better results. From the individual ratings of the users we can see that all users have movies that they would presumably like very much\n",
    "\n",
    "The results we have now are both a tradeoff and will now leave at least one user disliking the movie the group would watch."
   ],
   "metadata": {
    "collapsed": false
   }
  },
  {
   "cell_type": "markdown",
   "source": [
    "#### f)\n",
    "\n",
    "Disagreement between the users in a group\n",
    "\n",
    "We calculate disagreement by taking the max and min ratings of the group members for each movie. Min rating is reduced from max rating in order to have a disagreement score for the movie. These disagreement scores are then averaged in order to get the average disagreement score for predicted movies.  \n",
    "\n",
    "Let's calculate disagreement for both average and least misery aggregated recommendations to see which one is better."
   ],
   "metadata": {
    "collapsed": false
   }
  },
  {
   "metadata": {
    "ExecuteTime": {
     "end_time": "2024-11-08T12:32:39.976973Z",
     "start_time": "2024-11-08T12:32:39.968653Z"
    }
   },
   "cell_type": "code",
   "source": [
    "def get_average_group_disagreement(df):\n",
    "    top_10_movie_indices = (\n",
    "        df\n",
    "        .select(\"index\")\n",
    "        .to_numpy()\n",
    "        .reshape(-1)\n",
    "        .tolist()\n",
    "    )\n",
    "    \n",
    "    min_ratings = (\n",
    "        predictions_df\n",
    "        .select([str(x) for x in top_10_movie_indices])\n",
    "        .select(pl.all().min())\n",
    "        .to_numpy()\n",
    "        .reshape(-1)\n",
    "    )\n",
    "    \n",
    "    max_ratings = (\n",
    "        predictions_df\n",
    "        .select([str(x) for x in top_10_movie_indices])\n",
    "        .select(pl.all().max())\n",
    "        .to_numpy()\n",
    "        .reshape(-1)    \n",
    "    )\n",
    "    \n",
    "    return np.sum(max_ratings-min_ratings) / len(min_ratings)\n",
    "\n",
    "\n",
    "print(\"Average group disagreement for least misery aggregation:\")    \n",
    "print(get_average_group_disagreement(top_10_movies_least_misery_df))\n",
    "print()\n",
    "print(\"Average group disagreement for average aggregation:\")\n",
    "print(get_average_group_disagreement(top_10_movies_avg_df))"
   ],
   "outputs": [
    {
     "name": "stdout",
     "output_type": "stream",
     "text": [
      "Average group disagreement for least misery aggregation:\n",
      "2.1357725\n",
      "\n",
      "Average group disagreement for average aggregation:\n",
      "2.171708\n"
     ]
    }
   ],
   "execution_count": 118
  },
  {
   "metadata": {},
   "cell_type": "markdown",
   "source": "From the average group disagreement scores we can see how the least misery aggregation has lower disagreement score. It is thus more pleasing for all users in the group. We select least misery aggregated recommendations to be our final recommendation."
  }
 ],
 "metadata": {
  "kernelspec": {
   "display_name": "Python 3",
   "language": "python",
   "name": "python3"
  },
  "language_info": {
   "codemirror_mode": {
    "name": "ipython",
    "version": 3
   },
   "file_extension": ".py",
   "mimetype": "text/x-python",
   "name": "python",
   "nbconvert_exporter": "python",
   "pygments_lexer": "ipython3",
   "version": "3.13.0"
  }
 },
 "nbformat": 4,
 "nbformat_minor": 0
}
