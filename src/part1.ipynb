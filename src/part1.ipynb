{
 "cells": [
  {
   "cell_type": "markdown",
   "source": [
    "# Project Work Part 1"
   ],
   "metadata": {
    "collapsed": false
   }
  },
  {
   "cell_type": "code",
   "execution_count": 21,
   "outputs": [
    {
     "data": {
      "text/plain": "shape: (5, 3)\n┌─────────┬────────┬────────┐\n│ movieId ┆ imdb   ┆ tmdbId │\n│ ---     ┆ ---    ┆ ---    │\n│ i32     ┆ i32    ┆ i32    │\n╞═════════╪════════╪════════╡\n│ 1       ┆ 114709 ┆ 862    │\n│ 2       ┆ 113497 ┆ 8844   │\n│ 3       ┆ 113228 ┆ 15602  │\n│ 4       ┆ 114885 ┆ 31357  │\n│ 5       ┆ 113041 ┆ 11862  │\n└─────────┴────────┴────────┘",
      "text/html": "<div><style>\n.dataframe > thead > tr,\n.dataframe > tbody > tr {\n  text-align: right;\n  white-space: pre-wrap;\n}\n</style>\n<small>shape: (5, 3)</small><table border=\"1\" class=\"dataframe\"><thead><tr><th>movieId</th><th>imdb</th><th>tmdbId</th></tr><tr><td>i32</td><td>i32</td><td>i32</td></tr></thead><tbody><tr><td>1</td><td>114709</td><td>862</td></tr><tr><td>2</td><td>113497</td><td>8844</td></tr><tr><td>3</td><td>113228</td><td>15602</td></tr><tr><td>4</td><td>114885</td><td>31357</td></tr><tr><td>5</td><td>113041</td><td>11862</td></tr></tbody></table></div>"
     },
     "execution_count": 21,
     "metadata": {},
     "output_type": "execute_result"
    }
   ],
   "source": [
    "import polars as pl\n",
    "\n",
    "# read data\n",
    "links_df = pl.read_csv(\"../data/links.csv\")\n",
    "movies_df = pl.read_csv(\"../data/movies.csv\")\n",
    "ratings_df = pl.read_csv(\"../data/ratings.csv\")\n",
    "tags_df = pl.read_csv(\"../data/tags.csv\")\n",
    "\n",
    "# , schema={\"movieId\": pl.Int32, \"imdb\": pl.Int32, \"tmdbId\": pl.Int32}\n",
    "# links_df.describe()\n",
    "links_df.head()"
   ],
   "metadata": {
    "collapsed": false
   }
  }
 ],
 "metadata": {
  "kernelspec": {
   "display_name": "Python 3",
   "language": "python",
   "name": "python3"
  },
  "language_info": {
   "codemirror_mode": {
    "name": "ipython",
    "version": 2
   },
   "file_extension": ".py",
   "mimetype": "text/x-python",
   "name": "python",
   "nbconvert_exporter": "python",
   "pygments_lexer": "ipython2",
   "version": "2.7.6"
  }
 },
 "nbformat": 4,
 "nbformat_minor": 0
}
