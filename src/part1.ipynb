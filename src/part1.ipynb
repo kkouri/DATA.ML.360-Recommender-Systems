{
 "cells": [
  {
   "cell_type": "markdown",
   "metadata": {
    "collapsed": false
   },
   "source": [
    "# Project Work Part 1"
   ]
  },
  {
   "cell_type": "markdown",
   "metadata": {},
   "source": [
    "#### a)\n",
    "Downloading data and displaying some of it"
   ]
  },
  {
   "cell_type": "code",
   "execution_count": 2,
   "metadata": {},
   "outputs": [
    {
     "name": "stdout",
     "output_type": "stream",
     "text": [
      "Number of ratings:  100836\n",
      "Number of ratings:  100836\n"
     ]
    }
   ],
   "source": [
    "import numpy as np\n",
    "import polars as pl\n",
    "\n",
    "# read data\n",
    "links_df = pl.read_csv(\"../data/links.csv\", schema={\"movieId\": pl.Int32, \"imdb\": pl.Int32, \"tmdbId\": pl.Int32})\n",
    "movies_df = pl.read_csv(\"../data/movies.csv\", schema={\"movieId\": pl.Int32, \"title\": pl.String, \"genres\": pl.String})\n",
    "ratings_df = pl.read_csv(\"../data/ratings.csv\", schema={\"userId\": pl.Int32, \"movieId\": pl.Int32, \"rating\": pl.Float32, \"timestamp\": pl.Int32})\n",
    "tags_df = pl.read_csv(\"../data/tags.csv\", schema={\"userId\": pl.Int32, \"movieId\": pl.Int32, \"tag\": pl.String, \"timestamp\": pl.Int32})\n",
    "\n",
    "print(\"Number of ratings: \", ratings_df.height)"
   ]
  },
  {
   "cell_type": "code",
   "execution_count": 226,
   "metadata": {},
   "outputs": [
    {
     "name": "stdout",
     "output_type": "stream",
     "text": [
      "shape: (5, 3)\n",
      "┌─────────┬────────┬────────┐\n",
      "│ movieId ┆ imdb   ┆ tmdbId │\n",
      "│ ---     ┆ ---    ┆ ---    │\n",
      "│ i32     ┆ i32    ┆ i32    │\n",
      "╞═════════╪════════╪════════╡\n",
      "│ 1       ┆ 114709 ┆ 862    │\n",
      "│ 2       ┆ 113497 ┆ 8844   │\n",
      "│ 3       ┆ 113228 ┆ 15602  │\n",
      "│ 4       ┆ 114885 ┆ 31357  │\n",
      "│ 5       ┆ 113041 ┆ 11862  │\n",
      "└─────────┴────────┴────────┘\n",
      "rows:  9742\n"
     ]
    }
   ],
   "source": [
    "print(links_df.head())\n",
    "print('rows: ', links_df.height)"
   ]
  },
  {
   "cell_type": "code",
   "execution_count": 227,
   "metadata": {},
   "outputs": [
    {
     "name": "stdout",
     "output_type": "stream",
     "text": [
      "shape: (5, 3)\n",
      "┌─────────┬─────────────────────────────────┬─────────────────────────────────┐\n",
      "│ movieId ┆ title                           ┆ genres                          │\n",
      "│ ---     ┆ ---                             ┆ ---                             │\n",
      "│ i32     ┆ str                             ┆ str                             │\n",
      "╞═════════╪═════════════════════════════════╪═════════════════════════════════╡\n",
      "│ 1       ┆ Toy Story (1995)                ┆ Adventure|Animation|Children|C… │\n",
      "│ 2       ┆ Jumanji (1995)                  ┆ Adventure|Children|Fantasy      │\n",
      "│ 3       ┆ Grumpier Old Men (1995)         ┆ Comedy|Romance                  │\n",
      "│ 4       ┆ Waiting to Exhale (1995)        ┆ Comedy|Drama|Romance            │\n",
      "│ 5       ┆ Father of the Bride Part II (1… ┆ Comedy                          │\n",
      "└─────────┴─────────────────────────────────┴─────────────────────────────────┘\n",
      "rows:  9742\n"
     ]
    }
   ],
   "source": [
    "print(movies_df.head())\n",
    "print('rows: ', movies_df.height)"
   ]
  },
  {
   "cell_type": "code",
   "execution_count": 228,
   "metadata": {},
   "outputs": [
    {
     "name": "stdout",
     "output_type": "stream",
     "text": [
      "shape: (5, 4)\n",
      "┌────────┬─────────┬────────┬───────────┐\n",
      "│ userId ┆ movieId ┆ rating ┆ timestamp │\n",
      "│ ---    ┆ ---     ┆ ---    ┆ ---       │\n",
      "│ i32    ┆ i32     ┆ f32    ┆ i32       │\n",
      "╞════════╪═════════╪════════╪═══════════╡\n",
      "│ 1      ┆ 1       ┆ 4.0    ┆ 964982703 │\n",
      "│ 1      ┆ 3       ┆ 4.0    ┆ 964981247 │\n",
      "│ 1      ┆ 6       ┆ 4.0    ┆ 964982224 │\n",
      "│ 1      ┆ 47      ┆ 5.0    ┆ 964983815 │\n",
      "│ 1      ┆ 50      ┆ 5.0    ┆ 964982931 │\n",
      "└────────┴─────────┴────────┴───────────┘\n",
      "rows:  100836\n"
     ]
    }
   ],
   "source": [
    "print(ratings_df.head())\n",
    "print('rows: ', ratings_df.height)"
   ]
  },
  {
   "cell_type": "code",
   "execution_count": 229,
   "metadata": {},
   "outputs": [
    {
     "name": "stdout",
     "output_type": "stream",
     "text": [
      "shape: (5, 4)\n",
      "┌────────┬─────────┬─────────────────┬────────────┐\n",
      "│ userId ┆ movieId ┆ tag             ┆ timestamp  │\n",
      "│ ---    ┆ ---     ┆ ---             ┆ ---        │\n",
      "│ i32    ┆ i32     ┆ str             ┆ i32        │\n",
      "╞════════╪═════════╪═════════════════╪════════════╡\n",
      "│ 2      ┆ 60756   ┆ funny           ┆ 1445714994 │\n",
      "│ 2      ┆ 60756   ┆ Highly quotable ┆ 1445714996 │\n",
      "│ 2      ┆ 60756   ┆ will ferrell    ┆ 1445714992 │\n",
      "│ 2      ┆ 89774   ┆ Boxing story    ┆ 1445715207 │\n",
      "│ 2      ┆ 89774   ┆ MMA             ┆ 1445715200 │\n",
      "└────────┴─────────┴─────────────────┴────────────┘\n",
      "rows:  3683\n"
     ]
    }
   ],
   "source": [
    "print(tags_df.head())\n",
    "print('rows: ', tags_df.height)"
   ]
  },
  {
   "cell_type": "markdown",
   "metadata": {},
   "source": [
    "#### b)\n",
    "User-based collaborative filtering using the Pearson correlation function"
   ]
  },
  {
   "cell_type": "code",
   "execution_count": 152,
   "metadata": {},
   "outputs": [
    {
     "data": {
      "text/plain": "shape: (5, 9_725)\n┌────────┬─────┬─────┬─────┬───┬────────┬────────┬────────┬────────┐\n│ userId ┆ 1   ┆ 2   ┆ 3   ┆ … ┆ 193583 ┆ 193585 ┆ 193587 ┆ 193609 │\n│ ---    ┆ --- ┆ --- ┆ --- ┆   ┆ ---    ┆ ---    ┆ ---    ┆ ---    │\n│ i32    ┆ f32 ┆ f32 ┆ f32 ┆   ┆ f32    ┆ f32    ┆ f32    ┆ f32    │\n╞════════╪═════╪═════╪═════╪═══╪════════╪════════╪════════╪════════╡\n│ 1      ┆ 4.0 ┆ 0.0 ┆ 4.0 ┆ … ┆ 0.0    ┆ 0.0    ┆ 0.0    ┆ 0.0    │\n│ 2      ┆ 0.0 ┆ 0.0 ┆ 0.0 ┆ … ┆ 0.0    ┆ 0.0    ┆ 0.0    ┆ 0.0    │\n│ 3      ┆ 0.0 ┆ 0.0 ┆ 0.0 ┆ … ┆ 0.0    ┆ 0.0    ┆ 0.0    ┆ 0.0    │\n│ 4      ┆ 0.0 ┆ 0.0 ┆ 0.0 ┆ … ┆ 0.0    ┆ 0.0    ┆ 0.0    ┆ 0.0    │\n│ 5      ┆ 4.0 ┆ 0.0 ┆ 0.0 ┆ … ┆ 0.0    ┆ 0.0    ┆ 0.0    ┆ 0.0    │\n└────────┴─────┴─────┴─────┴───┴────────┴────────┴────────┴────────┘",
      "text/html": "<div><style>\n.dataframe > thead > tr,\n.dataframe > tbody > tr {\n  text-align: right;\n  white-space: pre-wrap;\n}\n</style>\n<small>shape: (5, 9_725)</small><table border=\"1\" class=\"dataframe\"><thead><tr><th>userId</th><th>1</th><th>2</th><th>3</th><th>4</th><th>5</th><th>6</th><th>7</th><th>8</th><th>9</th><th>10</th><th>11</th><th>12</th><th>13</th><th>14</th><th>15</th><th>16</th><th>17</th><th>18</th><th>19</th><th>20</th><th>21</th><th>22</th><th>23</th><th>24</th><th>25</th><th>26</th><th>27</th><th>28</th><th>29</th><th>30</th><th>31</th><th>32</th><th>34</th><th>36</th><th>38</th><th>39</th><th>&hellip;</th><th>185585</th><th>186587</th><th>187031</th><th>187541</th><th>187593</th><th>187595</th><th>187717</th><th>188189</th><th>188301</th><th>188675</th><th>188751</th><th>188797</th><th>188833</th><th>189043</th><th>189111</th><th>189333</th><th>189381</th><th>189547</th><th>189713</th><th>190183</th><th>190207</th><th>190209</th><th>190213</th><th>190215</th><th>190219</th><th>190221</th><th>191005</th><th>193565</th><th>193567</th><th>193571</th><th>193573</th><th>193579</th><th>193581</th><th>193583</th><th>193585</th><th>193587</th><th>193609</th></tr><tr><td>i32</td><td>f32</td><td>f32</td><td>f32</td><td>f32</td><td>f32</td><td>f32</td><td>f32</td><td>f32</td><td>f32</td><td>f32</td><td>f32</td><td>f32</td><td>f32</td><td>f32</td><td>f32</td><td>f32</td><td>f32</td><td>f32</td><td>f32</td><td>f32</td><td>f32</td><td>f32</td><td>f32</td><td>f32</td><td>f32</td><td>f32</td><td>f32</td><td>f32</td><td>f32</td><td>f32</td><td>f32</td><td>f32</td><td>f32</td><td>f32</td><td>f32</td><td>f32</td><td>&hellip;</td><td>f32</td><td>f32</td><td>f32</td><td>f32</td><td>f32</td><td>f32</td><td>f32</td><td>f32</td><td>f32</td><td>f32</td><td>f32</td><td>f32</td><td>f32</td><td>f32</td><td>f32</td><td>f32</td><td>f32</td><td>f32</td><td>f32</td><td>f32</td><td>f32</td><td>f32</td><td>f32</td><td>f32</td><td>f32</td><td>f32</td><td>f32</td><td>f32</td><td>f32</td><td>f32</td><td>f32</td><td>f32</td><td>f32</td><td>f32</td><td>f32</td><td>f32</td><td>f32</td></tr></thead><tbody><tr><td>1</td><td>4.0</td><td>0.0</td><td>4.0</td><td>0.0</td><td>0.0</td><td>4.0</td><td>0.0</td><td>0.0</td><td>0.0</td><td>0.0</td><td>0.0</td><td>0.0</td><td>0.0</td><td>0.0</td><td>0.0</td><td>0.0</td><td>0.0</td><td>0.0</td><td>0.0</td><td>0.0</td><td>0.0</td><td>0.0</td><td>0.0</td><td>0.0</td><td>0.0</td><td>0.0</td><td>0.0</td><td>0.0</td><td>0.0</td><td>0.0</td><td>0.0</td><td>0.0</td><td>0.0</td><td>0.0</td><td>0.0</td><td>0.0</td><td>&hellip;</td><td>0.0</td><td>0.0</td><td>0.0</td><td>0.0</td><td>0.0</td><td>0.0</td><td>0.0</td><td>0.0</td><td>0.0</td><td>0.0</td><td>0.0</td><td>0.0</td><td>0.0</td><td>0.0</td><td>0.0</td><td>0.0</td><td>0.0</td><td>0.0</td><td>0.0</td><td>0.0</td><td>0.0</td><td>0.0</td><td>0.0</td><td>0.0</td><td>0.0</td><td>0.0</td><td>0.0</td><td>0.0</td><td>0.0</td><td>0.0</td><td>0.0</td><td>0.0</td><td>0.0</td><td>0.0</td><td>0.0</td><td>0.0</td><td>0.0</td></tr><tr><td>2</td><td>0.0</td><td>0.0</td><td>0.0</td><td>0.0</td><td>0.0</td><td>0.0</td><td>0.0</td><td>0.0</td><td>0.0</td><td>0.0</td><td>0.0</td><td>0.0</td><td>0.0</td><td>0.0</td><td>0.0</td><td>0.0</td><td>0.0</td><td>0.0</td><td>0.0</td><td>0.0</td><td>0.0</td><td>0.0</td><td>0.0</td><td>0.0</td><td>0.0</td><td>0.0</td><td>0.0</td><td>0.0</td><td>0.0</td><td>0.0</td><td>0.0</td><td>0.0</td><td>0.0</td><td>0.0</td><td>0.0</td><td>0.0</td><td>&hellip;</td><td>0.0</td><td>0.0</td><td>0.0</td><td>0.0</td><td>0.0</td><td>0.0</td><td>0.0</td><td>0.0</td><td>0.0</td><td>0.0</td><td>0.0</td><td>0.0</td><td>0.0</td><td>0.0</td><td>0.0</td><td>0.0</td><td>0.0</td><td>0.0</td><td>0.0</td><td>0.0</td><td>0.0</td><td>0.0</td><td>0.0</td><td>0.0</td><td>0.0</td><td>0.0</td><td>0.0</td><td>0.0</td><td>0.0</td><td>0.0</td><td>0.0</td><td>0.0</td><td>0.0</td><td>0.0</td><td>0.0</td><td>0.0</td><td>0.0</td></tr><tr><td>3</td><td>0.0</td><td>0.0</td><td>0.0</td><td>0.0</td><td>0.0</td><td>0.0</td><td>0.0</td><td>0.0</td><td>0.0</td><td>0.0</td><td>0.0</td><td>0.0</td><td>0.0</td><td>0.0</td><td>0.0</td><td>0.0</td><td>0.0</td><td>0.0</td><td>0.0</td><td>0.0</td><td>0.0</td><td>0.0</td><td>0.0</td><td>0.0</td><td>0.0</td><td>0.0</td><td>0.0</td><td>0.0</td><td>0.0</td><td>0.0</td><td>0.5</td><td>0.0</td><td>0.0</td><td>0.0</td><td>0.0</td><td>0.0</td><td>&hellip;</td><td>0.0</td><td>0.0</td><td>0.0</td><td>0.0</td><td>0.0</td><td>0.0</td><td>0.0</td><td>0.0</td><td>0.0</td><td>0.0</td><td>0.0</td><td>0.0</td><td>0.0</td><td>0.0</td><td>0.0</td><td>0.0</td><td>0.0</td><td>0.0</td><td>0.0</td><td>0.0</td><td>0.0</td><td>0.0</td><td>0.0</td><td>0.0</td><td>0.0</td><td>0.0</td><td>0.0</td><td>0.0</td><td>0.0</td><td>0.0</td><td>0.0</td><td>0.0</td><td>0.0</td><td>0.0</td><td>0.0</td><td>0.0</td><td>0.0</td></tr><tr><td>4</td><td>0.0</td><td>0.0</td><td>0.0</td><td>0.0</td><td>0.0</td><td>0.0</td><td>0.0</td><td>0.0</td><td>0.0</td><td>0.0</td><td>0.0</td><td>0.0</td><td>0.0</td><td>0.0</td><td>0.0</td><td>0.0</td><td>0.0</td><td>0.0</td><td>0.0</td><td>0.0</td><td>3.0</td><td>0.0</td><td>0.0</td><td>0.0</td><td>0.0</td><td>0.0</td><td>0.0</td><td>0.0</td><td>0.0</td><td>0.0</td><td>0.0</td><td>2.0</td><td>0.0</td><td>0.0</td><td>0.0</td><td>0.0</td><td>&hellip;</td><td>0.0</td><td>0.0</td><td>0.0</td><td>0.0</td><td>0.0</td><td>0.0</td><td>0.0</td><td>0.0</td><td>0.0</td><td>0.0</td><td>0.0</td><td>0.0</td><td>0.0</td><td>0.0</td><td>0.0</td><td>0.0</td><td>0.0</td><td>0.0</td><td>0.0</td><td>0.0</td><td>0.0</td><td>0.0</td><td>0.0</td><td>0.0</td><td>0.0</td><td>0.0</td><td>0.0</td><td>0.0</td><td>0.0</td><td>0.0</td><td>0.0</td><td>0.0</td><td>0.0</td><td>0.0</td><td>0.0</td><td>0.0</td><td>0.0</td></tr><tr><td>5</td><td>4.0</td><td>0.0</td><td>0.0</td><td>0.0</td><td>0.0</td><td>0.0</td><td>0.0</td><td>0.0</td><td>0.0</td><td>0.0</td><td>0.0</td><td>0.0</td><td>0.0</td><td>0.0</td><td>0.0</td><td>0.0</td><td>0.0</td><td>0.0</td><td>0.0</td><td>0.0</td><td>4.0</td><td>0.0</td><td>0.0</td><td>0.0</td><td>0.0</td><td>0.0</td><td>0.0</td><td>0.0</td><td>0.0</td><td>0.0</td><td>0.0</td><td>0.0</td><td>4.0</td><td>4.0</td><td>0.0</td><td>3.0</td><td>&hellip;</td><td>0.0</td><td>0.0</td><td>0.0</td><td>0.0</td><td>0.0</td><td>0.0</td><td>0.0</td><td>0.0</td><td>0.0</td><td>0.0</td><td>0.0</td><td>0.0</td><td>0.0</td><td>0.0</td><td>0.0</td><td>0.0</td><td>0.0</td><td>0.0</td><td>0.0</td><td>0.0</td><td>0.0</td><td>0.0</td><td>0.0</td><td>0.0</td><td>0.0</td><td>0.0</td><td>0.0</td><td>0.0</td><td>0.0</td><td>0.0</td><td>0.0</td><td>0.0</td><td>0.0</td><td>0.0</td><td>0.0</td><td>0.0</td><td>0.0</td></tr></tbody></table></div>"
     },
     "execution_count": 152,
     "metadata": {},
     "output_type": "execute_result"
    }
   ],
   "source": [
    "# Create a ratings matrix by pivoting the ratings dataframe, filling null values with 0\n",
    "ratings_matrix = (\n",
    "    ratings_df\n",
    "    .drop(\"timestamp\")\n",
    "    .sort(\"movieId\")\n",
    "    .pivot(\"movieId\", index=\"userId\")\n",
    "    .sort(\"userId\")\n",
    "    .fill_null(strategy=\"zero\")\n",
    ")\n",
    "ratings_matrix.head()"
   ]
  },
  {
   "cell_type": "code",
   "execution_count": 154,
   "outputs": [
    {
     "data": {
      "text/plain": "shape: (5, 2)\n┌────────┬───────────────────┐\n│ userId ┆ rating_vector     │\n│ ---    ┆ ---               │\n│ i32    ┆ list[f32]         │\n╞════════╪═══════════════════╡\n│ 1      ┆ [4.0, 0.0, … 0.0] │\n│ 2      ┆ [0.0, 0.0, … 0.0] │\n│ 3      ┆ [0.0, 0.0, … 0.0] │\n│ 4      ┆ [0.0, 0.0, … 0.0] │\n│ 5      ┆ [4.0, 0.0, … 0.0] │\n└────────┴───────────────────┘",
      "text/html": "<div><style>\n.dataframe > thead > tr,\n.dataframe > tbody > tr {\n  text-align: right;\n  white-space: pre-wrap;\n}\n</style>\n<small>shape: (5, 2)</small><table border=\"1\" class=\"dataframe\"><thead><tr><th>userId</th><th>rating_vector</th></tr><tr><td>i32</td><td>list[f32]</td></tr></thead><tbody><tr><td>1</td><td>[4.0, 0.0, … 0.0]</td></tr><tr><td>2</td><td>[0.0, 0.0, … 0.0]</td></tr><tr><td>3</td><td>[0.0, 0.0, … 0.0]</td></tr><tr><td>4</td><td>[0.0, 0.0, … 0.0]</td></tr><tr><td>5</td><td>[4.0, 0.0, … 0.0]</td></tr></tbody></table></div>"
     },
     "execution_count": 154,
     "metadata": {},
     "output_type": "execute_result"
    }
   ],
   "source": [
    "# Combine movie rating columns into rating vector\n",
    "rating_vectors = (\n",
    "    ratings_matrix\n",
    "    .with_columns(rating_vector=pl.concat_list(ratings_matrix.columns[1:]))\n",
    "    .drop(pl.exclude([\"userId\", \"rating_vector\"]))\n",
    ")\n",
    "rating_vectors.head()"
   ],
   "metadata": {
    "collapsed": false
   }
  },
  {
   "cell_type": "code",
   "execution_count": 252,
   "outputs": [
    {
     "data": {
      "text/plain": "shape: (50, 3)\n┌────────┬───────────────────┬──────────────────┐\n│ userId ┆ rating_vector     ┆ similarity_score │\n│ ---    ┆ ---               ┆ ---              │\n│ i32    ┆ list[f32]         ┆ f32              │\n╞════════╪═══════════════════╪══════════════════╡\n│ 266    ┆ [2.0, 0.0, … 0.0] ┆ 0.344983         │\n│ 313    ┆ [0.0, 0.0, … 0.0] ┆ 0.333876         │\n│ 368    ┆ [0.0, 0.0, … 0.0] ┆ 0.324041         │\n│ 57     ┆ [5.0, 0.0, … 0.0] ┆ 0.323948         │\n│ 39     ┆ [0.0, 0.0, … 0.0] ┆ 0.32012          │\n│ …      ┆ …                 ┆ …                │\n│ 307    ┆ [4.0, 2.5, … 0.0] ┆ 0.239943         │\n│ 428    ┆ [0.0, 0.0, … 0.0] ┆ 0.237911         │\n│ 453    ┆ [5.0, 0.0, … 0.0] ┆ 0.237317         │\n│ 372    ┆ [3.0, 0.0, … 0.0] ┆ 0.237274         │\n│ 166    ┆ [5.0, 0.0, … 0.0] ┆ 0.235192         │\n└────────┴───────────────────┴──────────────────┘",
      "text/html": "<div><style>\n.dataframe > thead > tr,\n.dataframe > tbody > tr {\n  text-align: right;\n  white-space: pre-wrap;\n}\n</style>\n<small>shape: (50, 3)</small><table border=\"1\" class=\"dataframe\"><thead><tr><th>userId</th><th>rating_vector</th><th>similarity_score</th></tr><tr><td>i32</td><td>list[f32]</td><td>f32</td></tr></thead><tbody><tr><td>266</td><td>[2.0, 0.0, … 0.0]</td><td>0.344983</td></tr><tr><td>313</td><td>[0.0, 0.0, … 0.0]</td><td>0.333876</td></tr><tr><td>368</td><td>[0.0, 0.0, … 0.0]</td><td>0.324041</td></tr><tr><td>57</td><td>[5.0, 0.0, … 0.0]</td><td>0.323948</td></tr><tr><td>39</td><td>[0.0, 0.0, … 0.0]</td><td>0.32012</td></tr><tr><td>&hellip;</td><td>&hellip;</td><td>&hellip;</td></tr><tr><td>307</td><td>[4.0, 2.5, … 0.0]</td><td>0.239943</td></tr><tr><td>428</td><td>[0.0, 0.0, … 0.0]</td><td>0.237911</td></tr><tr><td>453</td><td>[5.0, 0.0, … 0.0]</td><td>0.237317</td></tr><tr><td>372</td><td>[3.0, 0.0, … 0.0]</td><td>0.237274</td></tr><tr><td>166</td><td>[5.0, 0.0, … 0.0]</td><td>0.235192</td></tr></tbody></table></div>"
     },
     "execution_count": 252,
     "metadata": {},
     "output_type": "execute_result"
    }
   ],
   "source": [
    "# Count similarity scores for userId 1\n",
    "query_user = rating_vectors.filter(pl.col(\"userId\") == 1).to_numpy()[0][1]\n",
    "\n",
    "# The pearson correlation function is found in scipy package and can be applied into dataframe directly\n",
    "import scipy as sp\n",
    "rating_vectors = (\n",
    "    rating_vectors\n",
    "    .with_columns(\n",
    "     pl.col(\"rating_vector\")\n",
    "     .map_elements(\n",
    "         lambda x: sp.stats.pearsonr(query_user, x)[0], return_dtype=pl.Float32\n",
    "                   ).alias(\"similarity_score\")\n",
    "    )\n",
    "    .sort(\"similarity_score\", descending=True)\n",
    ")\n",
    "\n",
    "# take top 50 most similar users to userId 1\n",
    "top_50_most_similar = rating_vectors.filter(pl.col(\"userId\") != 1).limit(50)\n",
    "top_50_most_similar"
   ],
   "metadata": {
    "collapsed": false
   }
  },
  {
   "cell_type": "markdown",
   "source": [
    "#### b)\n",
    "Prediction function"
   ],
   "metadata": {
    "collapsed": false
   }
  },
  {
   "cell_type": "code",
   "execution_count": 278,
   "metadata": {},
   "outputs": [
    {
     "name": "stdout",
     "output_type": "stream",
     "text": [
      "shape: (119, 2)\n",
      "┌─────────┬───────┐\n",
      "│ movieId ┆ count │\n",
      "│ ---     ┆ ---   │\n",
      "│ i32     ┆ u32   │\n",
      "╞═════════╪═══════╡\n",
      "│ 508     ┆ 46    │\n",
      "│ 794     ┆ 44    │\n",
      "│ 660     ┆ 41    │\n",
      "│ 902     ┆ 40    │\n",
      "│ 2078    ┆ 40    │\n",
      "│ …       ┆ …     │\n",
      "│ 4927    ┆ 21    │\n",
      "│ 1009    ┆ 21    │\n",
      "│ 2325    ┆ 21    │\n",
      "│ 3007    ┆ 21    │\n",
      "│ 2593    ┆ 21    │\n",
      "└─────────┴───────┘\n"
     ]
    }
   ],
   "source": [
    "# Find candidates for recommendation by selecting movies that the similar users have rated\n",
    "\n",
    "query_user_rated_movie_ids = np.nonzero(query_user)[0] + 1\n",
    "\n",
    "similar_user_rated_movie_ids = (\n",
    "    top_50_most_similar\n",
    "    .with_columns(\n",
    "        pl.col(\"rating_vector\")\n",
    "        .map_elements(\n",
    "             lambda x: np.nonzero(x)[0] + 1, return_dtype=pl.List(pl.Int32) # Calculate non zero indices and add 1 to make it movieId\n",
    "                       )\n",
    "        .alias(\"movieId\")\n",
    "    )\n",
    ")\n",
    "\n",
    "similar_users_most_watched_movies = (\n",
    "    similar_user_rated_movie_ids\n",
    "    .select(\"movieId\")\n",
    "    .explode(\"movieId\")\n",
    "    .group_by(\"movieId\")\n",
    "    .agg(\n",
    "        pl.count(\"movieId\")\n",
    "        .alias(\"count\")\n",
    "    )\n",
    "    .sort(\"count\", descending=True)\n",
    "    .filter(pl.col(\"movieId\").is_in(query_user_rated_movie_ids).not_())\n",
    "    .filter(pl.col(\"count\") > 20)) # At least 20 users must have rated the movie\n",
    "\n",
    "print(similar_users_most_watched_movies)\n",
    "\n",
    "candidate_movie_ids = similar_users_most_watched_movies.select(\"movieId\").to_numpy().flatten()"
   ]
  },
  {
   "cell_type": "code",
   "execution_count": 279,
   "outputs": [],
   "source": [
    "# TODO: Implement prediction function by doing some nice matrix operations\n",
    "\n",
    "def predict_movies(user_ratings, similar_users_ratings, similarity_scores, candidate_movie_ids):\n",
    "    \"\"\"\n",
    "\n",
    "    :param user_ratings: sparse numpy array of user ratings\n",
    "    :param similar_users_ratings: sparse numpy 2D matrix of similar users ratings. Each row is a user and each column is a movie\n",
    "    :param similarity_scores: numpy array of similarity scores between the user and the similar users\n",
    "    :param candidate_movie_ids: numpy array of movie ids that the similar users have rated\n",
    "    :return: ranked list of candidate movie ids\n",
    "    \"\"\"\n",
    "    mean_a = np.mean(user_ratings)\n",
    "\n",
    "\n",
    "\n"
   ],
   "metadata": {
    "collapsed": false
   }
  },
  {
   "cell_type": "code",
   "execution_count": 9,
   "metadata": {},
   "outputs": [],
   "source": []
  },
  {
   "cell_type": "code",
   "execution_count": 9,
   "metadata": {},
   "outputs": [],
   "source": []
  }
 ],
 "metadata": {
  "kernelspec": {
   "display_name": "Python 3",
   "language": "python",
   "name": "python3"
  },
  "language_info": {
   "codemirror_mode": {
    "name": "ipython",
    "version": 3
   },
   "file_extension": ".py",
   "mimetype": "text/x-python",
   "name": "python",
   "nbconvert_exporter": "python",
   "pygments_lexer": "ipython3",
   "version": "3.13.0"
  }
 },
 "nbformat": 4,
 "nbformat_minor": 0
}
