{
 "cells": [
  {
   "cell_type": "markdown",
   "metadata": {
    "collapsed": false
   },
   "source": [
    "# Project Work Part 1"
   ]
  },
  {
   "cell_type": "markdown",
   "metadata": {},
   "source": [
    "#### a)\n",
    "Downloading data and displaying some of it"
   ]
  },
  {
   "cell_type": "code",
   "execution_count": 156,
   "metadata": {},
   "outputs": [
    {
     "name": "stdout",
     "output_type": "stream",
     "text": [
      "Number of ratings:  100836\n"
     ]
    }
   ],
   "source": [
    "import numpy as np\n",
    "import polars as pl\n",
    "\n",
    "# read data\n",
    "links_df = pl.read_csv(\"../data/links.csv\", schema={\"movieId\": pl.Int32, \"imdb\": pl.Int32, \"tmdbId\": pl.Int32})\n",
    "movies_df = pl.read_csv(\"../data/movies.csv\", schema={\"movieId\": pl.Int32, \"title\": pl.String, \"genres\": pl.String}).with_row_index()\n",
    "ratings_df = pl.read_csv(\"../data/ratings.csv\", schema={\"userId\": pl.Int32, \"movieId\": pl.Int32, \"rating\": pl.Float32, \"timestamp\": pl.Int32})\n",
    "tags_df = pl.read_csv(\"../data/tags.csv\", schema={\"userId\": pl.Int32, \"movieId\": pl.Int32, \"tag\": pl.String, \"timestamp\": pl.Int32})\n",
    "\n",
    "print(\"Number of ratings: \", ratings_df.height)"
   ]
  },
  {
   "cell_type": "code",
   "execution_count": 157,
   "metadata": {},
   "outputs": [
    {
     "name": "stdout",
     "output_type": "stream",
     "text": [
      "shape: (9_742, 3)\n",
      "┌─────────┬─────────┬────────┐\n",
      "│ movieId ┆ imdb    ┆ tmdbId │\n",
      "│ ---     ┆ ---     ┆ ---    │\n",
      "│ i32     ┆ i32     ┆ i32    │\n",
      "╞═════════╪═════════╪════════╡\n",
      "│ 1       ┆ 114709  ┆ 862    │\n",
      "│ 2       ┆ 113497  ┆ 8844   │\n",
      "│ 3       ┆ 113228  ┆ 15602  │\n",
      "│ 4       ┆ 114885  ┆ 31357  │\n",
      "│ 5       ┆ 113041  ┆ 11862  │\n",
      "│ …       ┆ …       ┆ …      │\n",
      "│ 193581  ┆ 5476944 ┆ 432131 │\n",
      "│ 193583  ┆ 5914996 ┆ 445030 │\n",
      "│ 193585  ┆ 6397426 ┆ 479308 │\n",
      "│ 193587  ┆ 8391976 ┆ 483455 │\n",
      "│ 193609  ┆ 101726  ┆ 37891  │\n",
      "└─────────┴─────────┴────────┘\n"
     ]
    }
   ],
   "source": [
    "print(links_df)"
   ]
  },
  {
   "cell_type": "code",
   "execution_count": 158,
   "metadata": {},
   "outputs": [
    {
     "name": "stdout",
     "output_type": "stream",
     "text": [
      "shape: (9_742, 4)\n",
      "┌───────┬─────────┬─────────────────────────────────┬─────────────────────────────────┐\n",
      "│ index ┆ movieId ┆ title                           ┆ genres                          │\n",
      "│ ---   ┆ ---     ┆ ---                             ┆ ---                             │\n",
      "│ u32   ┆ i32     ┆ str                             ┆ str                             │\n",
      "╞═══════╪═════════╪═════════════════════════════════╪═════════════════════════════════╡\n",
      "│ 0     ┆ 1       ┆ Toy Story (1995)                ┆ Adventure|Animation|Children|C… │\n",
      "│ 1     ┆ 2       ┆ Jumanji (1995)                  ┆ Adventure|Children|Fantasy      │\n",
      "│ 2     ┆ 3       ┆ Grumpier Old Men (1995)         ┆ Comedy|Romance                  │\n",
      "│ 3     ┆ 4       ┆ Waiting to Exhale (1995)        ┆ Comedy|Drama|Romance            │\n",
      "│ 4     ┆ 5       ┆ Father of the Bride Part II (1… ┆ Comedy                          │\n",
      "│ …     ┆ …       ┆ …                               ┆ …                               │\n",
      "│ 9737  ┆ 193581  ┆ Black Butler: Book of the Atla… ┆ Action|Animation|Comedy|Fantas… │\n",
      "│ 9738  ┆ 193583  ┆ No Game No Life: Zero (2017)    ┆ Animation|Comedy|Fantasy        │\n",
      "│ 9739  ┆ 193585  ┆ Flint (2017)                    ┆ Drama                           │\n",
      "│ 9740  ┆ 193587  ┆ Bungo Stray Dogs: Dead Apple (… ┆ Action|Animation                │\n",
      "│ 9741  ┆ 193609  ┆ Andrew Dice Clay: Dice Rules (… ┆ Comedy                          │\n",
      "└───────┴─────────┴─────────────────────────────────┴─────────────────────────────────┘\n"
     ]
    }
   ],
   "source": [
    "print(movies_df)"
   ]
  },
  {
   "cell_type": "code",
   "execution_count": 159,
   "metadata": {},
   "outputs": [
    {
     "name": "stdout",
     "output_type": "stream",
     "text": [
      "shape: (100_836, 4)\n",
      "┌────────┬─────────┬────────┬────────────┐\n",
      "│ userId ┆ movieId ┆ rating ┆ timestamp  │\n",
      "│ ---    ┆ ---     ┆ ---    ┆ ---        │\n",
      "│ i32    ┆ i32     ┆ f32    ┆ i32        │\n",
      "╞════════╪═════════╪════════╪════════════╡\n",
      "│ 1      ┆ 1       ┆ 4.0    ┆ 964982703  │\n",
      "│ 1      ┆ 3       ┆ 4.0    ┆ 964981247  │\n",
      "│ 1      ┆ 6       ┆ 4.0    ┆ 964982224  │\n",
      "│ 1      ┆ 47      ┆ 5.0    ┆ 964983815  │\n",
      "│ 1      ┆ 50      ┆ 5.0    ┆ 964982931  │\n",
      "│ …      ┆ …       ┆ …      ┆ …          │\n",
      "│ 610    ┆ 166534  ┆ 4.0    ┆ 1493848402 │\n",
      "│ 610    ┆ 168248  ┆ 5.0    ┆ 1493850091 │\n",
      "│ 610    ┆ 168250  ┆ 5.0    ┆ 1494273047 │\n",
      "│ 610    ┆ 168252  ┆ 5.0    ┆ 1493846352 │\n",
      "│ 610    ┆ 170875  ┆ 3.0    ┆ 1493846415 │\n",
      "└────────┴─────────┴────────┴────────────┘\n"
     ]
    }
   ],
   "source": [
    "print(ratings_df)"
   ]
  },
  {
   "cell_type": "code",
   "execution_count": 160,
   "metadata": {},
   "outputs": [
    {
     "name": "stdout",
     "output_type": "stream",
     "text": [
      "shape: (3_683, 4)\n",
      "┌────────┬─────────┬──────────────────┬────────────┐\n",
      "│ userId ┆ movieId ┆ tag              ┆ timestamp  │\n",
      "│ ---    ┆ ---     ┆ ---              ┆ ---        │\n",
      "│ i32    ┆ i32     ┆ str              ┆ i32        │\n",
      "╞════════╪═════════╪══════════════════╪════════════╡\n",
      "│ 2      ┆ 60756   ┆ funny            ┆ 1445714994 │\n",
      "│ 2      ┆ 60756   ┆ Highly quotable  ┆ 1445714996 │\n",
      "│ 2      ┆ 60756   ┆ will ferrell     ┆ 1445714992 │\n",
      "│ 2      ┆ 89774   ┆ Boxing story     ┆ 1445715207 │\n",
      "│ 2      ┆ 89774   ┆ MMA              ┆ 1445715200 │\n",
      "│ …      ┆ …       ┆ …                ┆ …          │\n",
      "│ 606    ┆ 7382    ┆ for katie        ┆ 1171234019 │\n",
      "│ 606    ┆ 7936    ┆ austere          ┆ 1173392334 │\n",
      "│ 610    ┆ 3265    ┆ gun fu           ┆ 1493843984 │\n",
      "│ 610    ┆ 3265    ┆ heroic bloodshed ┆ 1493843978 │\n",
      "│ 610    ┆ 168248  ┆ Heroic Bloodshed ┆ 1493844270 │\n",
      "└────────┴─────────┴──────────────────┴────────────┘\n"
     ]
    }
   ],
   "source": [
    "print(tags_df)"
   ]
  },
  {
   "cell_type": "markdown",
   "metadata": {},
   "source": [
    "#### b)\n",
    "User-based collaborative filtering using the Pearson correlation function"
   ]
  },
  {
   "cell_type": "code",
   "execution_count": 161,
   "metadata": {},
   "outputs": [],
   "source": [
    "# The pearson correlation function is found in scipy package\n",
    "import scipy as sp\n",
    "\n",
    "def get_pearson_correlation(a, b):\n",
    "    return sp.stats.pearsonr(a, b)[0]"
   ]
  },
  {
   "cell_type": "markdown",
   "source": [
    "Let's calculate person correlation between userId 1 and all other users"
   ],
   "metadata": {
    "collapsed": false
   }
  },
  {
   "cell_type": "code",
   "execution_count": 162,
   "outputs": [
    {
     "name": "stdout",
     "output_type": "stream",
     "text": [
      "shape: (610, 9_725)\n",
      "┌────────┬─────┬─────┬─────┬───┬────────┬────────┬────────┬────────┐\n",
      "│ userId ┆ 1   ┆ 2   ┆ 3   ┆ … ┆ 193583 ┆ 193585 ┆ 193587 ┆ 193609 │\n",
      "│ ---    ┆ --- ┆ --- ┆ --- ┆   ┆ ---    ┆ ---    ┆ ---    ┆ ---    │\n",
      "│ i32    ┆ f32 ┆ f32 ┆ f32 ┆   ┆ f32    ┆ f32    ┆ f32    ┆ f32    │\n",
      "╞════════╪═════╪═════╪═════╪═══╪════════╪════════╪════════╪════════╡\n",
      "│ 1      ┆ 4.0 ┆ 0.0 ┆ 4.0 ┆ … ┆ 0.0    ┆ 0.0    ┆ 0.0    ┆ 0.0    │\n",
      "│ 2      ┆ 0.0 ┆ 0.0 ┆ 0.0 ┆ … ┆ 0.0    ┆ 0.0    ┆ 0.0    ┆ 0.0    │\n",
      "│ 3      ┆ 0.0 ┆ 0.0 ┆ 0.0 ┆ … ┆ 0.0    ┆ 0.0    ┆ 0.0    ┆ 0.0    │\n",
      "│ 4      ┆ 0.0 ┆ 0.0 ┆ 0.0 ┆ … ┆ 0.0    ┆ 0.0    ┆ 0.0    ┆ 0.0    │\n",
      "│ 5      ┆ 4.0 ┆ 0.0 ┆ 0.0 ┆ … ┆ 0.0    ┆ 0.0    ┆ 0.0    ┆ 0.0    │\n",
      "│ …      ┆ …   ┆ …   ┆ …   ┆ … ┆ …      ┆ …      ┆ …      ┆ …      │\n",
      "│ 606    ┆ 2.5 ┆ 0.0 ┆ 0.0 ┆ … ┆ 0.0    ┆ 0.0    ┆ 0.0    ┆ 0.0    │\n",
      "│ 607    ┆ 4.0 ┆ 0.0 ┆ 0.0 ┆ … ┆ 0.0    ┆ 0.0    ┆ 0.0    ┆ 0.0    │\n",
      "│ 608    ┆ 2.5 ┆ 2.0 ┆ 2.0 ┆ … ┆ 0.0    ┆ 0.0    ┆ 0.0    ┆ 0.0    │\n",
      "│ 609    ┆ 3.0 ┆ 0.0 ┆ 0.0 ┆ … ┆ 0.0    ┆ 0.0    ┆ 0.0    ┆ 0.0    │\n",
      "│ 610    ┆ 5.0 ┆ 0.0 ┆ 0.0 ┆ … ┆ 0.0    ┆ 0.0    ┆ 0.0    ┆ 0.0    │\n",
      "└────────┴─────┴─────┴─────┴───┴────────┴────────┴────────┴────────┘\n"
     ]
    }
   ],
   "source": [
    "# Create a ratings matrix by pivoting the ratings dataframe, filling null values with 0\n",
    "ratings_matrix = (\n",
    "    ratings_df\n",
    "    .drop(\"timestamp\")\n",
    "    .sort(\"movieId\")\n",
    "    .pivot(\"movieId\", index=\"userId\")\n",
    "    .sort(\"userId\")\n",
    "    .fill_null(strategy=\"zero\")\n",
    ")\n",
    "print(ratings_matrix)"
   ],
   "metadata": {
    "collapsed": false
   }
  },
  {
   "cell_type": "code",
   "execution_count": 163,
   "outputs": [
    {
     "name": "stdout",
     "output_type": "stream",
     "text": [
      "shape: (610, 2)\n",
      "┌────────┬───────────────────┐\n",
      "│ userId ┆ rating_vector     │\n",
      "│ ---    ┆ ---               │\n",
      "│ i32    ┆ list[f32]         │\n",
      "╞════════╪═══════════════════╡\n",
      "│ 1      ┆ [4.0, 0.0, … 0.0] │\n",
      "│ 2      ┆ [0.0, 0.0, … 0.0] │\n",
      "│ 3      ┆ [0.0, 0.0, … 0.0] │\n",
      "│ 4      ┆ [0.0, 0.0, … 0.0] │\n",
      "│ 5      ┆ [4.0, 0.0, … 0.0] │\n",
      "│ …      ┆ …                 │\n",
      "│ 606    ┆ [2.5, 0.0, … 0.0] │\n",
      "│ 607    ┆ [4.0, 0.0, … 0.0] │\n",
      "│ 608    ┆ [2.5, 2.0, … 0.0] │\n",
      "│ 609    ┆ [3.0, 0.0, … 0.0] │\n",
      "│ 610    ┆ [5.0, 0.0, … 0.0] │\n",
      "└────────┴───────────────────┘\n"
     ]
    }
   ],
   "source": [
    "# Combine movie rating columns into rating vector\n",
    "rating_vectors = (\n",
    "    ratings_matrix\n",
    "    .with_columns(rating_vector=pl.concat_list(ratings_matrix.columns[1:]))\n",
    "    .drop(pl.exclude([\"userId\", \"rating_vector\"]))\n",
    ")\n",
    "print(rating_vectors)"
   ],
   "metadata": {
    "collapsed": false
   }
  },
  {
   "cell_type": "code",
   "execution_count": 178,
   "outputs": [
    {
     "name": "stdout",
     "output_type": "stream",
     "text": [
      "shape: (50, 5)\n",
      "┌────────┬───────────────────┬──────────────────┬─────────────────────┬──────────────┐\n",
      "│ userId ┆ rating_vector     ┆ similarity_score ┆ rated_movie_indices ┆ ratings_mean │\n",
      "│ ---    ┆ ---               ┆ ---              ┆ ---                 ┆ ---          │\n",
      "│ i32    ┆ list[f32]         ┆ f32              ┆ list[i32]           ┆ f32          │\n",
      "╞════════╪═══════════════════╪══════════════════╪═════════════════════╪══════════════╡\n",
      "│ 266    ┆ [2.0, 0.0, … 0.0] ┆ 0.344983         ┆ [0, 5, … 2450]      ┆ 3.5          │\n",
      "│ 313    ┆ [0.0, 0.0, … 0.0] ┆ 0.333876         ┆ [5, 9, … 3937]      ┆ 3.432353     │\n",
      "│ 368    ┆ [0.0, 0.0, … 0.0] ┆ 0.324041         ┆ [2, 5, … 3668]      ┆ 2.842217     │\n",
      "│ 57     ┆ [5.0, 0.0, … 0.0] ┆ 0.323948         ┆ [0, 5, … 3668]      ┆ 3.392857     │\n",
      "│ 39     ┆ [0.0, 0.0, … 0.0] ┆ 0.32012          ┆ [31, 43, … 2912]    ┆ 4.0          │\n",
      "│ …      ┆ …                 ┆ …                ┆ …                   ┆ …            │\n",
      "│ 307    ┆ [4.0, 2.5, … 0.0] ┆ 0.239943         ┆ [0, 1, … 7026]      ┆ 2.665641     │\n",
      "│ 428    ┆ [0.0, 0.0, … 0.0] ┆ 0.237911         ┆ [8, 18, … 5706]     ┆ 2.64         │\n",
      "│ 453    ┆ [5.0, 0.0, … 0.0] ┆ 0.237317         ┆ [0, 9, … 4094]      ┆ 3.942122     │\n",
      "│ 372    ┆ [3.0, 0.0, … 0.0] ┆ 0.237274         ┆ [0, 5, … 3668]      ┆ 3.355932     │\n",
      "│ 166    ┆ [5.0, 0.0, … 0.0] ┆ 0.235192         ┆ [0, 5, … 6560]      ┆ 4.073684     │\n",
      "└────────┴───────────────────┴──────────────────┴─────────────────────┴──────────────┘\n"
     ]
    }
   ],
   "source": [
    "# Count similarity scores for userId 1 and all other users and take top 50 most similar users\n",
    "\n",
    "def get_rating_vector_for_user(userId):\n",
    "    return rating_vectors.filter(pl.col(\"userId\") == userId).to_numpy()[0][1]\n",
    "\n",
    "\n",
    "def get_top_n_most_similar_users(userId, rating_vector, n):\n",
    "    return (\n",
    "        rating_vectors\n",
    "        .with_columns(\n",
    "             pl.col(\"rating_vector\")\n",
    "             .map_elements(lambda x: get_pearson_correlation(rating_vector, x), return_dtype=pl.Float32)\n",
    "             .alias(\"similarity_score\")\n",
    "        )\n",
    "        .sort(\"similarity_score\", descending=True)\n",
    "        .filter(pl.col(\"userId\") != userId)\n",
    "        .limit(n)\n",
    "        # Count additional information for prediction\n",
    "        .with_columns(\n",
    "            pl.col(\"rating_vector\")\n",
    "            # Calculate non-zero indices\n",
    "            .map_elements(lambda x: np.nonzero(x)[0], return_dtype=pl.List(pl.Int32))\n",
    "            .alias(\"rated_movie_indices\")\n",
    "        )\n",
    "        .with_columns(\n",
    "            pl.col(\"rating_vector\")\n",
    "            # Calculate mean of ratings, excluding zeros\n",
    "            .map_elements(lambda x: np.sum(x.to_numpy()) / np.count_nonzero(x.to_numpy()), return_dtype=pl.Float32)\n",
    "            .alias(\"ratings_mean\")\n",
    "        )\n",
    "    )\n",
    "\n",
    "userId = 1\n",
    "query_user_rating_vector = get_rating_vector_for_user(userId)\n",
    "\n",
    "# Get top 50 most similar users\n",
    "top_50_most_similar = get_top_n_most_similar_users(userId, query_user_rating_vector, 50)\n",
    "print(top_50_most_similar)"
   ],
   "metadata": {
    "collapsed": false
   }
  },
  {
   "cell_type": "markdown",
   "source": [
    "#### c)\n",
    "Prediction function"
   ],
   "metadata": {
    "collapsed": false
   }
  },
  {
   "cell_type": "code",
   "execution_count": 165,
   "outputs": [],
   "source": [
    "def predict_movies(user_ratings_mean, similar_users_ratings, similar_users_ratings_mean, similarity_scores, candidate_movie_indices, num_of_movies):\n",
    "    \"\"\"\n",
    "    The prediction function from course slides.\n",
    "\n",
    "    :param user_ratings_mean: mean of user ratings\n",
    "    :param similar_users_ratings: sparse numpy 2D matrix of similar users ratings. Each row is a user and each column is a movie\n",
    "    :param similar_users_ratings_mean: numpy array of mean ratings of the similar users\n",
    "    :param similarity_scores: numpy array of similarity scores between the user and the similar users\n",
    "    :param candidate_movie_indices: numpy array of movie indices that the similar users have rated\n",
    "    :param num_of_movies: number of movies to recommend\n",
    "    :return: top ranked candidate movie indices, and their predicted ratings\n",
    "    \"\"\"\n",
    "\n",
    "    # Compute ratings only for the candidate movies to save computation\n",
    "    candidate_similar_users_ratings = np.take(similar_users_ratings, candidate_movie_indices, axis=1)\n",
    "\n",
    "    # Subtract mean rating from each rating, (r_b,p - r_b)\n",
    "    delta_ratings = candidate_similar_users_ratings - similar_users_ratings_mean\n",
    "\n",
    "    # Sum sim(a,b) * (r_b,p - r_b)\n",
    "    numerator = np.sum(similarity_scores.reshape(-1, 1) * delta_ratings, axis=0)\n",
    "\n",
    "    # Sum |sim(a,b)|, taking absolute value to avoid negative bias even though it should not be possible\n",
    "    denominator = np.sum(np.abs(similarity_scores))\n",
    "\n",
    "    # Sum sim(a,b) * (r_b,p - r_b) / Sum |sim(a,b)|\n",
    "    bias = numerator / denominator\n",
    "\n",
    "    # pred(a,p) = r_a + bias\n",
    "    predicted_ratings = user_ratings_mean + bias\n",
    "\n",
    "    # Rank the movies by predicted rating\n",
    "    indices = np.flip(np.argsort(predicted_ratings))\n",
    "    predicted_movie_indices = candidate_movie_indices[indices][:num_of_movies]\n",
    "    sorted_ratings = predicted_ratings[indices][:num_of_movies]\n",
    "\n",
    "    return predicted_movie_indices, sorted_ratings"
   ],
   "metadata": {
    "collapsed": false
   }
  },
  {
   "cell_type": "code",
   "execution_count": 190,
   "metadata": {},
   "outputs": [
    {
     "name": "stdout",
     "output_type": "stream",
     "text": [
      "shape: (2_176, 2)\n",
      "┌─────────────────────┬───────────────┐\n",
      "│ rated_movie_indices ┆ ratings_count │\n",
      "│ ---                 ┆ ---           │\n",
      "│ i32                 ┆ u32           │\n",
      "╞═════════════════════╪═══════════════╡\n",
      "│ 507                 ┆ 46            │\n",
      "│ 793                 ┆ 44            │\n",
      "│ 659                 ┆ 41            │\n",
      "│ 901                 ┆ 40            │\n",
      "│ 2077                ┆ 40            │\n",
      "│ …                   ┆ …             │\n",
      "│ 1554                ┆ 3             │\n",
      "│ 5365                ┆ 3             │\n",
      "│ 3778                ┆ 3             │\n",
      "│ 3138                ┆ 3             │\n",
      "│ 5898                ┆ 3             │\n",
      "└─────────────────────┴───────────────┘\n"
     ]
    }
   ],
   "source": [
    "# Let's predict movies for userId 1 using the top 50 most similar users and the prediction function from the course slides\n",
    "\n",
    "# Define some helper functions to extract data from the top n most similar users dataframe\n",
    "def get_user_rating_mean(rating_vector):\n",
    "    return np.mean(rating_vector[rating_vector != 0])\n",
    "\n",
    "def get_get_similar_users_ratings_matrix(top_n_most_similar_users_df):\n",
    "    return np.array(pl.Series(top_n_most_similar_users_df.select(\"rating_vector\")).to_list())\n",
    "\n",
    "def get_similar_users_ratings_mean(top_n_most_similar_users_df):\n",
    "    return top_n_most_similar_users_df.select(\"ratings_mean\").to_numpy()\n",
    "\n",
    "def get_similar_users_similarity_scores(top_n_most_similar_users_df):\n",
    "    return top_n_most_similar_users_df.select(\"similarity_score\").to_numpy().reshape(-1)\n",
    "\n",
    "def get_similar_users_most_watched_movies(top_n_most_similar_users_df, query_user_rated_movie_indices):\n",
    "    return (\n",
    "        top_n_most_similar_users_df\n",
    "        .select(pl.col(\"rated_movie_indices\").explode())\n",
    "        .group_by(\"rated_movie_indices\")\n",
    "        .agg(\n",
    "            pl.count(\"rated_movie_indices\")\n",
    "            .alias(\"ratings_count\")\n",
    "        )\n",
    "        # Remove movies that the user has already seen\n",
    "        .filter(pl.col(\"rated_movie_indices\").is_in(query_user_rated_movie_indices).not_())\n",
    "        # At least 3 users must have rated the movie\n",
    "        .filter(pl.col(\"ratings_count\") >= 3)\n",
    "        .sort(\"ratings_count\", descending=True)\n",
    "    )\n",
    "\n",
    "def get_candidate_movie_indices(similar_users_most_watched_movies):\n",
    "    return similar_users_most_watched_movies.select(\"rated_movie_indices\").to_numpy().reshape(-1)\n",
    "\n",
    "query_user_rated_movie_indices = np.nonzero(query_user_rating_vector)[0]\n",
    "\n",
    "similar_users_most_watched_movies = get_similar_users_most_watched_movies(top_50_most_similar, query_user_rated_movie_indices)\n",
    "print(similar_users_most_watched_movies)"
   ]
  },
  {
   "cell_type": "code",
   "execution_count": 191,
   "outputs": [
    {
     "name": "stdout",
     "output_type": "stream",
     "text": [
      "predicted movie indices:\n",
      "[ 507  659  901  793 2077   31  277  921 1157 1444]\n",
      "\n",
      "predicted ratings:\n",
      "[4.67787677 4.60761104 4.265487   4.25997751 4.07875882 3.96788518\n",
      " 3.93025386 3.85082443 3.68561891 3.67868759]\n",
      "\n",
      "shape: (10, 4)\n",
      "┌───────┬─────────┬─────────────────────────────────┬─────────────────────────────────┐\n",
      "│ index ┆ movieId ┆ title                           ┆ genres                          │\n",
      "│ ---   ┆ ---     ┆ ---                             ┆ ---                             │\n",
      "│ u32   ┆ i32     ┆ str                             ┆ str                             │\n",
      "╞═══════╪═════════╪═════════════════════════════════╪═════════════════════════════════╡\n",
      "│ 31    ┆ 32      ┆ Twelve Monkeys (a.k.a. 12 Monk… ┆ Mystery|Sci-Fi|Thriller         │\n",
      "│ 277   ┆ 318     ┆ Shawshank Redemption, The (199… ┆ Crime|Drama                     │\n",
      "│ 507   ┆ 589     ┆ Terminator 2: Judgment Day (19… ┆ Action|Sci-Fi                   │\n",
      "│ 659   ┆ 858     ┆ Godfather, The (1972)           ┆ Crime|Drama                     │\n",
      "│ 793   ┆ 1036    ┆ Die Hard (1988)                 ┆ Action|Crime|Thriller           │\n",
      "│ 901   ┆ 1199    ┆ Brazil (1985)                   ┆ Fantasy|Sci-Fi                  │\n",
      "│ 921   ┆ 1220    ┆ Blues Brothers, The (1980)      ┆ Action|Comedy|Musical           │\n",
      "│ 1157  ┆ 1526    ┆ Fathers' Day (1997)             ┆ Comedy                          │\n",
      "│ 1444  ┆ 1967    ┆ Labyrinth (1986)                ┆ Adventure|Fantasy|Musical       │\n",
      "│ 2077  ┆ 2761    ┆ Iron Giant, The (1999)          ┆ Adventure|Animation|Children|D… │\n",
      "└───────┴─────────┴─────────────────────────────────┴─────────────────────────────────┘\n"
     ]
    }
   ],
   "source": [
    "# Recommend 10 movies for userId 1\n",
    "\n",
    "user_ratings_mean = get_user_rating_mean(query_user_rating_vector)\n",
    "similar_users_ratings = get_get_similar_users_ratings_matrix(top_50_most_similar)\n",
    "similar_users_ratings_mean = get_similar_users_ratings_mean(top_50_most_similar)\n",
    "similarity_scores = get_similar_users_similarity_scores(top_50_most_similar)\n",
    "candidate_movie_indices = get_candidate_movie_indices(similar_users_most_watched_movies)\n",
    "\n",
    "predicted_movies, ratings = predict_movies(user_ratings_mean, similar_users_ratings, similar_users_ratings_mean, similarity_scores, candidate_movie_indices, 10)\n",
    "\n",
    "print('predicted movie indices:')\n",
    "print(predicted_movies)\n",
    "print()\n",
    "print('predicted ratings:')\n",
    "print(ratings)\n",
    "print()\n",
    "\n",
    "# print top 10 movies\n",
    "print(movies_df.filter(pl.col(\"index\").is_in(predicted_movies)))\n"
   ],
   "metadata": {
    "collapsed": false
   }
  },
  {
   "cell_type": "markdown",
   "source": [],
   "metadata": {
    "collapsed": false
   }
  },
  {
   "cell_type": "markdown",
   "source": [
    "#### d)\n",
    "\n",
    "New similarity function\n",
    "\n",
    "We chose the cosine similarity as a distance measure for the following reasons:\n",
    "    - It is a common similarity measure for collaborative filtering\n",
    "    - It is a good distance measure for sparse data\n",
    "\n",
    "However, since the cosine similarity does not depend on magnitude of the vector we have to do some modifications to the rating scale. The ratings scale of 1-5 is shifted to -2-2 by subtracting 3 from each rating. This is done to make the cosine similarity work better with the data since otherwise the ratings of three movies [1, 1, 1] and [5, 5, 5] would be treated as eaqual in the cosine similarity calculation. By doing this shift the similarity measure will be more accurate in comparing user preferences of liking or disliking a movie while also ignoring neutral ratings.\n"
   ],
   "metadata": {
    "collapsed": false
   }
  },
  {
   "cell_type": "code",
   "execution_count": null,
   "outputs": [],
   "source": [
    "from scipy.spatial import distance\n",
    "\n",
    "def cosine_similarity(a, b):\n",
    "    # shift non-zero ratings to -2-2 scale\n",
    "    a_mask = a != 0\n",
    "    b_mask = b != 0\n",
    "    a[a_mask] = a[a_mask] - 3\n",
    "    b[b_mask] = b[b_mask] - 3\n",
    "\n",
    "    # prevent division by zero\n",
    "    if np.sum(a) == 0 or np.sum(b) == 0:\n",
    "        return 0\n",
    "\n",
    "    # cosine distance is 1 - cosine similarity\n",
    "    return 1 - distance.cosine(a, b)\n",
    "\n",
    "\n",
    "a = np.array([4, 4, 0, 4])\n",
    "b = np.array([5, 0, 3, 5])\n",
    "c = np.array([1, 1, 1, 0])\n",
    "d = np.array([3, 2, 3, 2])\n",
    "\n",
    "print(cosine_similarity(np.copy(a), np.copy(b)))\n",
    "print(cosine_similarity(np.copy(a), np.copy(c)))\n",
    "print(cosine_similarity(np.copy(a), np.copy(d)))\n",
    "print(cosine_similarity(np.copy(c), np.copy(d)))"
   ],
   "metadata": {
    "collapsed": false
   }
  },
  {
   "cell_type": "markdown",
   "source": [
    "#### e)\n",
    "User-based collaborative filtering for group recommendations"
   ],
   "metadata": {
    "collapsed": false
   }
  },
  {
   "cell_type": "code",
   "execution_count": null,
   "outputs": [],
   "source": [
    "# Create a group of users by picking the first 5 userIds\n",
    "group = rating_vectors.filter(pl.col(\"userId\").is_in([1, 2, 3, 4, 5]))\n",
    "print(group)"
   ],
   "metadata": {
    "collapsed": false
   }
  }
 ],
 "metadata": {
  "kernelspec": {
   "display_name": "Python 3",
   "language": "python",
   "name": "python3"
  },
  "language_info": {
   "codemirror_mode": {
    "name": "ipython",
    "version": 3
   },
   "file_extension": ".py",
   "mimetype": "text/x-python",
   "name": "python",
   "nbconvert_exporter": "python",
   "pygments_lexer": "ipython3",
   "version": "3.13.0"
  }
 },
 "nbformat": 4,
 "nbformat_minor": 0
}
