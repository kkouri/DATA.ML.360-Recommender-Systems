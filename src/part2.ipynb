{
 "cells": [
  {
   "cell_type": "markdown",
   "metadata": {},
   "source": [
    "# Project work part 2"
   ]
  },
  {
   "cell_type": "code",
   "metadata": {
    "ExecuteTime": {
     "end_time": "2024-11-15T09:06:54.229303Z",
     "start_time": "2024-11-15T09:06:54.197260Z"
    }
   },
   "source": [
    "import numpy as np\n",
    "import polars as pl\n",
    "\n",
    "# read data\n",
    "links_df = pl.read_csv(\"../data/links.csv\", schema={\"movieId\": pl.Int32, \"imdb\": pl.Int32, \"tmdbId\": pl.Int32})\n",
    "movies_df = (\n",
    "    pl.read_csv(\"../data/movies.csv\", schema={\"movieId\": pl.Int32, \"title\": pl.String, \"genres\": pl.String})\n",
    "    .with_row_index()\n",
    "    .with_columns(\n",
    "        pl.col(\"index\")\n",
    "        .cast(pl.Int32)\n",
    "    )\n",
    ")\n",
    "ratings_df = pl.read_csv(\"../data/ratings.csv\", schema={\"userId\": pl.Int32, \"movieId\": pl.Int32, \"rating\": pl.Float32, \"timestamp\": pl.Int32})\n",
    "tags_df = pl.read_csv(\"../data/tags.csv\", schema={\"userId\": pl.Int32, \"movieId\": pl.Int32, \"tag\": pl.String, \"timestamp\": pl.Int32})\n",
    "\n",
    "print(\"Number of ratings: \", ratings_df.height)\n",
    "\n",
    "# Divide the dataset to two parts based on the timestamp \n",
    "# January 1, 1, 2016, 00:00:00\n",
    "ratings_df_before = (\n",
    "    ratings_df\n",
    "    .with_columns(\n",
    "        rating = pl.when(pl.col(\"timestamp\") >= 1451599200).then(None).otherwise(pl.col(\"rating\")),\n",
    "        timestamp = pl.when(pl.col(\"timestamp\") >= 1451599200).then(None).otherwise(pl.col(\"timestamp\"))\n",
    "    )\n",
    ")\n",
    "\n",
    "print(\"Number of ratings in before:\", ratings_df_before.height)"
   ],
   "outputs": [
    {
     "name": "stdout",
     "output_type": "stream",
     "text": [
      "Number of ratings:  100836\n",
      "Number of ratings in before: 100836\n"
     ]
    }
   ],
   "execution_count": 45
  },
  {
   "metadata": {
    "ExecuteTime": {
     "end_time": "2024-11-15T09:06:10.858428Z",
     "start_time": "2024-11-15T09:06:10.848195Z"
    }
   },
   "cell_type": "code",
   "source": [
    "print(ratings_df)\n",
    "print(movies_df)"
   ],
   "outputs": [
    {
     "name": "stdout",
     "output_type": "stream",
     "text": [
      "shape: (100_836, 4)\n",
      "┌────────┬─────────┬────────┬────────────┐\n",
      "│ userId ┆ movieId ┆ rating ┆ timestamp  │\n",
      "│ ---    ┆ ---     ┆ ---    ┆ ---        │\n",
      "│ i32    ┆ i32     ┆ f32    ┆ i32        │\n",
      "╞════════╪═════════╪════════╪════════════╡\n",
      "│ 1      ┆ 1       ┆ 4.0    ┆ 964982703  │\n",
      "│ 1      ┆ 3       ┆ 4.0    ┆ 964981247  │\n",
      "│ 1      ┆ 6       ┆ 4.0    ┆ 964982224  │\n",
      "│ 1      ┆ 47      ┆ 5.0    ┆ 964983815  │\n",
      "│ 1      ┆ 50      ┆ 5.0    ┆ 964982931  │\n",
      "│ …      ┆ …       ┆ …      ┆ …          │\n",
      "│ 610    ┆ 166534  ┆ 4.0    ┆ 1493848402 │\n",
      "│ 610    ┆ 168248  ┆ 5.0    ┆ 1493850091 │\n",
      "│ 610    ┆ 168250  ┆ 5.0    ┆ 1494273047 │\n",
      "│ 610    ┆ 168252  ┆ 5.0    ┆ 1493846352 │\n",
      "│ 610    ┆ 170875  ┆ 3.0    ┆ 1493846415 │\n",
      "└────────┴─────────┴────────┴────────────┘\n",
      "shape: (9_742, 4)\n",
      "┌───────┬─────────┬─────────────────────────────────┬─────────────────────────────────┐\n",
      "│ index ┆ movieId ┆ title                           ┆ genres                          │\n",
      "│ ---   ┆ ---     ┆ ---                             ┆ ---                             │\n",
      "│ i32   ┆ i32     ┆ str                             ┆ str                             │\n",
      "╞═══════╪═════════╪═════════════════════════════════╪═════════════════════════════════╡\n",
      "│ 0     ┆ 1       ┆ Toy Story (1995)                ┆ Adventure|Animation|Children|C… │\n",
      "│ 1     ┆ 2       ┆ Jumanji (1995)                  ┆ Adventure|Children|Fantasy      │\n",
      "│ 2     ┆ 3       ┆ Grumpier Old Men (1995)         ┆ Comedy|Romance                  │\n",
      "│ 3     ┆ 4       ┆ Waiting to Exhale (1995)        ┆ Comedy|Drama|Romance            │\n",
      "│ 4     ┆ 5       ┆ Father of the Bride Part II (1… ┆ Comedy                          │\n",
      "│ …     ┆ …       ┆ …                               ┆ …                               │\n",
      "│ 9737  ┆ 193581  ┆ Black Butler: Book of the Atla… ┆ Action|Animation|Comedy|Fantas… │\n",
      "│ 9738  ┆ 193583  ┆ No Game No Life: Zero (2017)    ┆ Animation|Comedy|Fantasy        │\n",
      "│ 9739  ┆ 193585  ┆ Flint (2017)                    ┆ Drama                           │\n",
      "│ 9740  ┆ 193587  ┆ Bungo Stray Dogs: Dead Apple (… ┆ Action|Animation                │\n",
      "│ 9741  ┆ 193609  ┆ Andrew Dice Clay: Dice Rules (… ┆ Comedy                          │\n",
      "└───────┴─────────┴─────────────────────────────────┴─────────────────────────────────┘\n"
     ]
    }
   ],
   "execution_count": 39
  },
  {
   "cell_type": "code",
   "metadata": {
    "ExecuteTime": {
     "end_time": "2024-11-15T09:06:10.907970Z",
     "start_time": "2024-11-15T09:06:10.898879Z"
    }
   },
   "source": [
    "from sklearn.metrics.pairwise import nan_euclidean_distances\n",
    "\n",
    "def get_top_n_most_similar_users_euclidean(user_id, n):\n",
    "    rating_vectors_df = (\n",
    "        ratings_df_before\n",
    "        .drop(\"timestamp\")\n",
    "        .pivot(\"movieId\", index=\"userId\")\n",
    "    )\n",
    "    \n",
    "    user_ratings = rating_vectors_df.filter(pl.col(\"userId\") == user_id).drop(\"userId\").to_numpy()\n",
    "    \n",
    "    rating_vectors = (\n",
    "        rating_vectors_df\n",
    "        .drop(\"userId\")\n",
    "        .to_numpy()\n",
    "    )\n",
    "    \n",
    "    # Calculate distance\n",
    "    distances = nan_euclidean_distances(rating_vectors, user_ratings).reshape(-1)\n",
    "    \n",
    "    # Find nan values and count the amount of common movies between user and all users\n",
    "    nans_in_user_ratings = np.isnan(user_ratings[0])\n",
    "    nans_in_rating_vectors = np.isnan(rating_vectors)\n",
    "    common_rated_movies = 1 - np.logical_or(nans_in_user_ratings, nans_in_rating_vectors)\n",
    "    common_rated_movies_count = np.sum(common_rated_movies, axis=1).astype(np.float32) \n",
    "    \n",
    "    # Ignore users withe less than 5 common movies\n",
    "    common_rated_movies_count[common_rated_movies_count < 5] = np.nan \n",
    "    \n",
    "    # Count average distances\n",
    "    average_distances = distances / common_rated_movies_count\n",
    "    \n",
    "    # Max scaling\n",
    "    max_average_distance = np.nanmax(average_distances)\n",
    "    \n",
    "    # Distance to similarity. Nan values are set to zero\n",
    "    similarities = np.nan_to_num(1 - (average_distances / max_average_distance))\n",
    "    \n",
    "    distance_df = (\n",
    "        pl.DataFrame(\n",
    "            {\n",
    "                \"userId\": rating_vectors_df.select(\"userId\"),\n",
    "                \"similarity\": similarities\n",
    "            }\n",
    "        )\n",
    "        .sort(\"similarity\", descending=True)\n",
    "        .limit(n)\n",
    "    )\n",
    "    \n",
    "    return (\n",
    "        distance_df\n",
    "        .select(\"userId\")\n",
    "        .to_numpy()\n",
    "        .reshape(-1)\n",
    "    ), (\n",
    "        distance_df\n",
    "        .select(\"similarity\")\n",
    "        .to_numpy()\n",
    "        .reshape(-1)\n",
    "    )"
   ],
   "outputs": [],
   "execution_count": 40
  },
  {
   "metadata": {
    "ExecuteTime": {
     "end_time": "2024-11-15T09:06:11.073342Z",
     "start_time": "2024-11-15T09:06:10.931379Z"
    }
   },
   "cell_type": "code",
   "source": [
    "# Define some helper functions to extract data from the dataframes\n",
    "\n",
    "# ratings\n",
    "def get_ratings_for_users(user_ids):\n",
    "    return (\n",
    "        ratings_df_before\n",
    "        .drop(\"timestamp\")\n",
    "        .sort(\"movieId\")\n",
    "        .pivot(\"userId\", index=\"movieId\")\n",
    "        .drop(\"movieId\")\n",
    "        .select([str(user_id) for user_id in user_ids])\n",
    "        .transpose(include_header=True, header_name=\"userId\", column_names=user_ids)\n",
    "        .drop(\"userId\")\n",
    "        .to_numpy()\n",
    "    )\n",
    "\n",
    "print(get_ratings_for_users(np.array([1, 2, 3])))\n",
    "\n",
    "\n",
    "# ratings mean\n",
    "def get_mean_ratings_for_users(user_ids):\n",
    "    return (\n",
    "        ratings_df_before\n",
    "        .drop(\"timestamp\")\n",
    "        .sort(\"movieId\")\n",
    "        .pivot(\"userId\", index=\"movieId\")\n",
    "        .drop(\"movieId\")\n",
    "        .select([str(user_id) for user_id in user_ids.tolist()])\n",
    "        .select(pl.all().mean())\n",
    "        .transpose(include_header=True, header_name=\"userId\", column_names=[\"ratings_mean\"])\n",
    "        .cast({\"userId\": pl.Int16})\n",
    "        .filter(pl.col(\"userId\").is_in(user_ids))\n",
    "        .select(\"ratings_mean\")\n",
    "        .to_numpy()\n",
    "        .reshape(-1)\n",
    "    )\n",
    "\n",
    "# movie indices for movie ids\n",
    "def get_movie_indices_for_movie_ids(movie_ids):\n",
    "    return (\n",
    "        ratings_df\n",
    "        .select(\"movieId\")\n",
    "        .unique()\n",
    "        .sort(\"movieId\")\n",
    "        .with_row_index()\n",
    "        .filter(pl.col(\"movieId\").is_in(movie_ids))\n",
    "        .select(\"index\")\n",
    "        .to_numpy()\n",
    "        .reshape(-1)\n",
    "    )\n",
    "\n",
    "# single user rating mean\n",
    "def get_user_rating_mean(user_id):\n",
    "    return get_mean_ratings_for_users(np.array([user_id]))[0]\n",
    "\n",
    "# candidate movie ids\n",
    "def get_candidate_movie_ids(user_id, similar_user_ids):\n",
    "    rated_by_user = (\n",
    "        ratings_df_before\n",
    "        .filter(pl.col(\"userId\") == user_id)\n",
    "        .select(\"movieId\")\n",
    "        .to_numpy()\n",
    "        .reshape(-1)\n",
    "    )\n",
    "\n",
    "    return (\n",
    "        ratings_df_before\n",
    "        .filter(\n",
    "            pl.col(\"userId\").is_in(similar_user_ids), # only include ratings from similar users\n",
    "            pl.col(\"movieId\").is_in(rated_by_user).not_() # only include movies that the user has not rated\n",
    "        )\n",
    "        .group_by(\"movieId\")\n",
    "        .agg()\n",
    "        .select(\"movieId\")\n",
    "        .to_numpy()\n",
    "        .reshape(-1)\n",
    "    )"
   ],
   "outputs": [
    {
     "name": "stdout",
     "output_type": "stream",
     "text": [
      "[[ 4. nan  4. ... nan nan nan]\n",
      " [nan nan nan ... nan nan nan]\n",
      " [nan nan nan ... nan nan nan]]\n"
     ]
    }
   ],
   "execution_count": 41
  },
  {
   "metadata": {
    "ExecuteTime": {
     "end_time": "2024-11-15T09:06:11.084936Z",
     "start_time": "2024-11-15T09:06:11.076358Z"
    }
   },
   "cell_type": "code",
   "source": [
    "def predict_movies(user_ratings_mean, similar_users_ratings, similar_users_ratings_mean, similarity_scores, candidate_movie_indices, num_of_movies):\n",
    "    \"\"\"\n",
    "    The prediction function from course slides.\n",
    "\n",
    "    :param user_ratings_mean: mean of user ratings\n",
    "    :param similar_users_ratings: sparse numpy 2D matrix of similar users ratings. Each row is a user and each column is a movie\n",
    "    :param similar_users_ratings_mean: numpy array of mean ratings of the similar users\n",
    "    :param similarity_scores: numpy array of similarity scores between the user and the similar users\n",
    "    :param candidate_movie_indices: numpy array of movie indices that the similar users have rated\n",
    "    :param num_of_movies: number of movies to recommend\n",
    "    :return: top ranked candidate movie indices, and their predicted ratings\n",
    "    \"\"\"\n",
    "    \n",
    "    # Compute ratings only for the candidate movies to save computation\n",
    "    candidate_similar_users_ratings = np.take(similar_users_ratings, candidate_movie_indices, axis=1)\n",
    "\n",
    "    # Subtract mean rating from each rating, (r_b,p - r_b)\n",
    "    delta_ratings = candidate_similar_users_ratings - similar_users_ratings_mean.reshape(similar_users_ratings_mean.shape[0], 1)\n",
    "\n",
    "    # Sum sim(a,b) * (r_b,p - r_b)\n",
    "    numerator = np.sum(similarity_scores.reshape(-1, 1) * delta_ratings, axis=0)\n",
    "\n",
    "    # Sum |sim(a,b)|, taking absolute value to avoid negative bias even though it should not be possible\n",
    "    denominator = np.sum(np.abs(similarity_scores))\n",
    "\n",
    "    # Sum sim(a,b) * (r_b,p - r_b) / Sum |sim(a,b)|\n",
    "    bias = numerator / denominator\n",
    "\n",
    "    # pred(a,p) = r_a + bias\n",
    "    predicted_ratings = user_ratings_mean + bias\n",
    "\n",
    "    # Rank the movies by predicted rating\n",
    "    indices = np.flip(np.argsort(predicted_ratings))\n",
    "    predicted_movie_indices = candidate_movie_indices[indices][:num_of_movies]\n",
    "    sorted_ratings = predicted_ratings[indices][:num_of_movies]\n",
    "\n",
    "    return predicted_movie_indices, sorted_ratings"
   ],
   "outputs": [],
   "execution_count": 42
  },
  {
   "metadata": {
    "ExecuteTime": {
     "end_time": "2024-11-15T09:06:11.107215Z",
     "start_time": "2024-11-15T09:06:11.088180Z"
    }
   },
   "cell_type": "code",
   "source": [
    "def predict_movies_for_user(user_id, num_of_movies):\n",
    "    similar_user_ids, similarity_scores = get_top_n_most_similar_users_euclidean(user_id, 50)\n",
    "    \n",
    "    user_ratings_mean = get_user_rating_mean(user_id)\n",
    "    # print(user_ratings_mean)\n",
    "    similar_users_ratings = np.nan_to_num(get_ratings_for_users(similar_user_ids))\n",
    "    # print(similar_users_ratings)\n",
    "    similar_users_ratings_mean = get_mean_ratings_for_users(similar_user_ids)\n",
    "    # print(similar_users_ratings_mean)\n",
    "    candidate_movie_ids = get_candidate_movie_ids(user_id, similar_user_ids)\n",
    "\n",
    "    candidate_movie_indices = get_movie_indices_for_movie_ids(candidate_movie_ids)\n",
    "\n",
    "    return predict_movies(user_ratings_mean, similar_users_ratings, similar_users_ratings_mean, similarity_scores, candidate_movie_indices, num_of_movies)"
   ],
   "outputs": [],
   "execution_count": 43
  },
  {
   "metadata": {
    "ExecuteTime": {
     "end_time": "2024-11-15T09:06:12.197120Z",
     "start_time": "2024-11-15T09:06:11.110978Z"
    }
   },
   "cell_type": "code",
   "source": [
    "# Predict movies for user 1\n",
    "\n",
    "predicted_movie_indices, predicted_ratings = predict_movies_for_user(1, 10)\n",
    "\n",
    "# Get movie titles\n",
    "predicted_movie_titles = (\n",
    "    movies_df\n",
    "    .filter(pl.col(\"index\").is_in(predicted_movie_indices))\n",
    "    .select(\"title\")\n",
    "    .to_numpy()\n",
    "    .reshape(-1)\n",
    ")\n",
    "\n",
    "print(\"Predicted movie titles for user 1:\")\n",
    "print(predicted_movie_titles)\n",
    "\n"
   ],
   "outputs": [
    {
     "name": "stdout",
     "output_type": "stream",
     "text": [
      "Predicted movie titles for user 1:\n",
      "['Twelve Monkeys (a.k.a. 12 Monkeys) (1995)'\n",
      " 'Shawshank Redemption, The (1994)' 'Blade Runner (1982)'\n",
      " 'Terminator 2: Judgment Day (1991)' 'Godfather, The (1972)'\n",
      " 'Die Hard (1988)' \"Fathers' Day (1997)\" 'Iron Giant, The (1999)'\n",
      " 'Body Heat (1981)' 'White Water Summer (1987)']\n"
     ]
    }
   ],
   "execution_count": 44
  }
 ],
 "metadata": {
  "kernelspec": {
   "display_name": ".venv",
   "language": "python",
   "name": "python3"
  },
  "language_info": {
   "codemirror_mode": {
    "name": "ipython",
    "version": 3
   },
   "file_extension": ".py",
   "mimetype": "text/x-python",
   "name": "python",
   "nbconvert_exporter": "python",
   "pygments_lexer": "ipython3",
   "version": "3.10.10"
  }
 },
 "nbformat": 4,
 "nbformat_minor": 2
}
